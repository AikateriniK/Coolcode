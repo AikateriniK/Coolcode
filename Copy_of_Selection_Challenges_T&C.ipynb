{
  "nbformat": 4,
  "nbformat_minor": 0,
  "metadata": {
    "colab": {
      "provenance": [],
      "include_colab_link": true
    },
    "kernelspec": {
      "name": "python3",
      "display_name": "Python 3"
    }
  },
  "cells": [
    {
      "cell_type": "markdown",
      "metadata": {
        "id": "view-in-github",
        "colab_type": "text"
      },
      "source": [
        "<a href=\"https://colab.research.google.com/github/AikateriniK/Coolcode/blob/main/Copy_of_Selection_Challenges_T%26C.ipynb\" target=\"_parent\"><img src=\"https://colab.research.google.com/assets/colab-badge.svg\" alt=\"Open In Colab\"/></a>"
      ]
    },
    {
      "cell_type": "markdown",
      "metadata": {
        "id": "-QxAKPD8DZfj"
      },
      "source": [
        "# Three selection challenges\n",
        "\n",
        "---\n"
      ]
    },
    {
      "cell_type": "markdown",
      "metadata": {
        "id": "2KYUALILDcM9"
      },
      "source": [
        "### Challenge 1 - access code format  \n",
        "\n",
        "Users of the noticeboard app will login in with an email address and an access code.  \n",
        "\n",
        "Write a function called **check_valid_code(access_code)** which will check the validity of an **access_code** given to it in its brackets.\n",
        "\n",
        "Rules for a valid access code are:  \n",
        "\n",
        "*  At least 1 letter between [A-Z].\n",
        "*  At least 1 number between [0-9].\n",
        "*  At least 1 character from [$#@].\n",
        "*  Length 12 characters. \n",
        "\n",
        "Print a message to state if the `access code` is valid and, if not, where was the first error (A-Z missing or 0-9 missing, etc).\n",
        "\n",
        "*Hint:  to test if a set of characters is present in an access_code String, you can use re.search('[character set]', `access_code`)*  \n",
        "\n",
        "Example:   \n",
        "*if re.search('[A-Z]',`access_code`):*    \n",
        "if there is at least 1 character A-Z in the `access_code`, re.search will not be None.\n",
        "\n",
        "**re** is a pre-written Python function for pattern searching in Strings.  It has been imported for you in the code cell below.  \n",
        "\n",
        "### Test 1\n",
        "Run the function with the following call:  \n",
        "\n",
        "`check_valid_code(\"ABC032RF$#12\")`\n",
        "\n",
        "The expected output is \"The code is valid\"\n",
        "\n",
        "### Test 2\n",
        "Run the function with the following call:  \n",
        "\n",
        "`check_valid_code(\"ABC$$PFD#@\")`\n",
        "\n",
        "The expected output is \"The code is invalid, it has no number digits\"  \n",
        "\n",
        "### Test 3\n",
        "Run the function with the following call:  \n",
        "\n",
        "`check_valid_code(\"ABC$$12PFD#@3\")`\n",
        "\n",
        "The expected output is \"The code is invalid, it has the wrong number of characters\" "
      ]
    },
    {
      "cell_type": "code",
      "metadata": {
        "id": "8wBK9IA4BO2e",
        "colab": {
          "base_uri": "https://localhost:8080/"
        },
        "outputId": "7b6ae275-ebc8-4527-e98a-915eb06530c9"
      },
      "source": [
        "import re\n",
        "def check_valid_code(access_code):\n",
        "  if re.search ('[A-Z]+[0-9]',access_code):\n",
        "    print( \"The code is valid\") \n",
        "  else:\n",
        "    print()\n",
        "  if re.search('[0-9]',access_code):\n",
        "      print()\n",
        "  else:\n",
        "     print(\"The code is invalid, it has no number digits\")\n",
        "  if re.search('[$#@]',access_code):\n",
        "     print()\n",
        "  else:\n",
        "     print()\n",
        "  if len(access_code)==12:\n",
        "      print()\n",
        "  else:\n",
        "      print(\"The code is invalid, it has the wrong number of characters\")\n",
        "\n",
        "check_valid_code(\"ABC032RF$#12\")\n"
      ],
      "execution_count": null,
      "outputs": [
        {
          "output_type": "stream",
          "name": "stdout",
          "text": [
            "The code is valid\n",
            "\n",
            "\n",
            "\n"
          ]
        }
      ]
    },
    {
      "cell_type": "markdown",
      "metadata": {
        "id": "f0R4GYTEFQS-"
      },
      "source": [
        "---\n",
        "### Challenge 2 - locator  \n",
        "\n",
        "When a user first accesses the app, their GPS position will be used to determine which location they are in.  \n",
        "\n",
        "GPS coordinates are expressed as a latitude (lat) and a longitude (lon).  \n",
        "\n",
        "A rectangular area covering Medway can be defined to have the following bounding co-ordinates:\n",
        "\n",
        "\n",
        "![Map](https://drive.google.com/uc?id=1XCgYy0dJ_8aanusTCbYSub6W9SGw_fov)\n",
        "\n",
        "\n",
        "Top (lat):  51.48586836145452   \n",
        "Left (lon): 0.46367947236595175  \n",
        "Bottom (lat): 51.33662496338446  \n",
        "Right (lon): 0.7225833875971361  \n",
        "\n",
        "Write a function called **locate_user(lat, lon)** which will be given the co-ordinates for the user's current position and will decide, and print, if that user is located in Medway or not.  \n",
        "\n",
        "\n",
        "### Test 1\n",
        "Run the function with these co-ordinates:\n",
        "\n",
        "`locate_user(51.42015170639725, 0.4855652376565944)`\n",
        "\n",
        "The expected output is that \"This user is in Medway\"  \n",
        "\n",
        "### Test 2\n",
        "Run the function with these co-ordinates:\n",
        "\n",
        "`locate_user(51.44709781078563, 0.19080357058032646)`\n",
        "\n",
        "The expected output is that \"This user is NOT in Medway\"  "
      ]
    },
    {
      "cell_type": "code",
      "metadata": {
        "id": "oBgl4ro1DVL0",
        "colab": {
          "base_uri": "https://localhost:8080/"
        },
        "outputId": "c315134b-3446-45be-d976-fbc3a2964036"
      },
      "source": [
        "from IPython.terminal.ptutils import provisionalcompleter\n",
        "def locate_user(lat,lon):\n",
        " top=51.48586836145452\n",
        " left=0.46367947236595175\n",
        " bottom=51.33662496338446\n",
        " right= 0.7225833875971361\n",
        " in_range=(lat<=top and lat>=bottom)and(lon<=right and lon>=left)\n",
        " if in_range==True:\n",
        "    print(\"This user is in Medway\")\n",
        " else:\n",
        "  print(\"This user is NOT in Medway\")\n",
        " \n",
        "\n",
        "locate_user(51.44709781078563, 0.19080357058032646)"
      ],
      "execution_count": 85,
      "outputs": [
        {
          "output_type": "stream",
          "name": "stdout",
          "text": [
            "This user is NOT in Medway\n"
          ]
        }
      ]
    },
    {
      "cell_type": "code",
      "source": [],
      "metadata": {
        "id": "x9Vg6vA-j4yT"
      },
      "execution_count": null,
      "outputs": []
    },
    {
      "cell_type": "markdown",
      "metadata": {
        "id": "hr2EotkqG33l"
      },
      "source": [
        "---\n",
        "### Challenge 3 - which season\n",
        "\n",
        "This won't be in the first version of the app but could be a nice to have feature for a later version.  An automatic category could choose notices by season.\n",
        "\n",
        "Write a function called **determine_season(month, day)** which will be given two integers representing a **month** and **day** and will print the season for that month and day.\n",
        "\n",
        "*Note*:  for this exercise the season dates are:\n",
        "*  Winter December 21 to March 20    \n",
        "*  Spring March 21 to June 20  \n",
        "*  Summer June 21 to September 20  \n",
        "*  Autumn September 21 to December 20\n",
        "\n",
        "### Test 1:  \n",
        "Run the function to check the date 31st July                     \n",
        "\n",
        "`determine_season(7, 31)`                                                     \n",
        "\n",
        "Expected output:  \n",
        "Season is summer  \n",
        "\n",
        "### Test 2:  \n",
        "Run the function to check the date 2nd November                     \n",
        "\n",
        "`determine_season(11, 2)`                                                     \n",
        "\n",
        "Expected output:  \n",
        "Season is autumn  \n",
        "\n",
        "*Note: this will require multiple `and` or `or` operators and you should use brackets to help Python know which operations to do first*  \n",
        "\n",
        "*For an extra challenge you could check that the day is valid for the month and print an error if so*"
      ]
    },
    {
      "cell_type": "code",
      "metadata": {
        "id": "cvbfz8nzG4IL",
        "colab": {
          "base_uri": "https://localhost:8080/",
          "height": 321
        },
        "outputId": "2458247a-4d77-4b58-a4a8-7c06ebdf51ab"
      },
      "source": [
        "import calendar\n",
        "def determine_season(month, day):\n",
        "\n",
        " seasons={\n",
        " 'spring':date_range(start='21/03', end='20/06'),\n",
        " 'summer':range(start='21/06', end='22/09'),\n",
        " 'autumn':range(start='23/09', end='20/12')}\n",
        " date=(month/day)\n",
        " if date in seasons['spring']:\n",
        "    print(\"spring\")\n",
        " if date in seasons['summer']:\n",
        "      print(\"summer\")\n",
        " if date in seasons['autumn']:\n",
        "      print(\"autumn\")\n",
        " else:\n",
        "      print(\"winter\")\n",
        "\n",
        "determine_season(12, 31)"
      ],
      "execution_count": 191,
      "outputs": [
        {
          "output_type": "error",
          "ename": "NameError",
          "evalue": "ignored",
          "traceback": [
            "\u001b[0;31m---------------------------------------------------------------------------\u001b[0m",
            "\u001b[0;31mNameError\u001b[0m                                 Traceback (most recent call last)",
            "\u001b[0;32m<ipython-input-191-1b6049e38e43>\u001b[0m in \u001b[0;36m<cell line: 18>\u001b[0;34m()\u001b[0m\n\u001b[1;32m     16\u001b[0m       \u001b[0mprint\u001b[0m\u001b[0;34m(\u001b[0m\u001b[0;34m\"winter\"\u001b[0m\u001b[0;34m)\u001b[0m\u001b[0;34m\u001b[0m\u001b[0;34m\u001b[0m\u001b[0m\n\u001b[1;32m     17\u001b[0m \u001b[0;34m\u001b[0m\u001b[0m\n\u001b[0;32m---> 18\u001b[0;31m \u001b[0mdetermine_season\u001b[0m\u001b[0;34m(\u001b[0m\u001b[0;36m12\u001b[0m\u001b[0;34m,\u001b[0m \u001b[0;36m31\u001b[0m\u001b[0;34m)\u001b[0m\u001b[0;34m\u001b[0m\u001b[0;34m\u001b[0m\u001b[0m\n\u001b[0m",
            "\u001b[0;32m<ipython-input-191-1b6049e38e43>\u001b[0m in \u001b[0;36mdetermine_season\u001b[0;34m(month, day)\u001b[0m\n\u001b[1;32m      3\u001b[0m \u001b[0;34m\u001b[0m\u001b[0m\n\u001b[1;32m      4\u001b[0m  seasons={\n\u001b[0;32m----> 5\u001b[0;31m  \u001b[0;34m'spring'\u001b[0m\u001b[0;34m:\u001b[0m\u001b[0mdate_range\u001b[0m\u001b[0;34m(\u001b[0m\u001b[0mstart\u001b[0m\u001b[0;34m=\u001b[0m\u001b[0;34m'21/03'\u001b[0m\u001b[0;34m,\u001b[0m \u001b[0mend\u001b[0m\u001b[0;34m=\u001b[0m\u001b[0;34m'20/06'\u001b[0m\u001b[0;34m)\u001b[0m\u001b[0;34m,\u001b[0m\u001b[0;34m\u001b[0m\u001b[0;34m\u001b[0m\u001b[0m\n\u001b[0m\u001b[1;32m      6\u001b[0m  \u001b[0;34m'summer'\u001b[0m\u001b[0;34m:\u001b[0m\u001b[0mrange\u001b[0m\u001b[0;34m(\u001b[0m\u001b[0mstart\u001b[0m\u001b[0;34m=\u001b[0m\u001b[0;34m'21/06'\u001b[0m\u001b[0;34m,\u001b[0m \u001b[0mend\u001b[0m\u001b[0;34m=\u001b[0m\u001b[0;34m'22/09'\u001b[0m\u001b[0;34m)\u001b[0m\u001b[0;34m,\u001b[0m\u001b[0;34m\u001b[0m\u001b[0;34m\u001b[0m\u001b[0m\n\u001b[1;32m      7\u001b[0m  'autumn':range(start='23/09', end='20/12')}\n",
            "\u001b[0;31mNameError\u001b[0m: name 'date_range' is not defined"
          ]
        }
      ]
    }
  ]
}