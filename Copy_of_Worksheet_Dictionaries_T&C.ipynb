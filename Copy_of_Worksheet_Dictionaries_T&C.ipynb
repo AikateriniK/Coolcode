{
  "nbformat": 4,
  "nbformat_minor": 0,
  "metadata": {
    "colab": {
      "provenance": [],
      "include_colab_link": true
    },
    "kernelspec": {
      "name": "python3",
      "display_name": "Python 3"
    },
    "language_info": {
      "name": "python"
    }
  },
  "cells": [
    {
      "cell_type": "markdown",
      "metadata": {
        "id": "view-in-github",
        "colab_type": "text"
      },
      "source": [
        "<a href=\"https://colab.research.google.com/github/AikateriniK/Coolcode/blob/main/Copy_of_Worksheet_Dictionaries_T%26C.ipynb\" target=\"_parent\"><img src=\"https://colab.research.google.com/assets/colab-badge.svg\" alt=\"Open In Colab\"/></a>"
      ]
    },
    {
      "cell_type": "markdown",
      "metadata": {
        "id": "AiiF1h2X4PHP"
      },
      "source": [
        "# Dictionaries\n",
        "\n",
        "---\n",
        "\n",
        "A **dictionary** is a collection of dissimilar data stored together in one *record*. Each item of data has a  (or key) that describes its paired value.\n",
        "\n",
        "Create a dictionary object by declaring the set of keys and values, e.g.:\n",
        "\n",
        "```\n",
        "   notices = {\n",
        "       \"1\":\"Mentor Flyer\",\n",
        "       \"2\":\"Leisure Centre Job Fair\",\n",
        "       \"3\":\"Summer Job Fair\",\n",
        "       \"4\":\"GS Conservation\"\n",
        "   }\n",
        "```\n",
        "\n",
        "To update a value in a dictionary, use its key:\n",
        "\n",
        "```\n",
        "notices[\"1\"] = \"Princes Trust Mentor Flyer\"\n",
        "notices[\"3\"] = \"Ramsgate Leisure Centre Job Fair\"\n",
        "```\n",
        "\n",
        "To add a new key/value pair to a dictionary, simply assign a value to a new key:\n",
        "```\n",
        "notices[\"5\"] = \"Development Awards (cash grants)\"\n",
        "```\n",
        "\n",
        "The notices dictionary will now look like this:\n",
        "```\n",
        "   notices = {\n",
        "       \"1\":\"Princes Trust Mentor Flyer\",\n",
        "       \"2\":\"Ramsgate Leisure Centre Job Fair\",\n",
        "       \"3\":\"Summer Job Fair\",\n",
        "       \"4\":\"GS Conservation\"\n",
        "       \"5\":\"Development Awards (cash grants)\"\n",
        "   }\n",
        "```\n",
        "\n"
      ]
    },
    {
      "cell_type": "markdown",
      "metadata": {
        "id": "1uZ5kNWB6CqK"
      },
      "source": [
        "---\n",
        "### Exercise 1 - print dictionary\n",
        "\n",
        "Write a function which will:\n",
        "\n",
        "*  create an empty dictionary for a person signed up for the noticeboard app (name, email)\n",
        "*  ask the user for their name and email\n",
        "*  print the dictionary\n",
        "\n",
        "**Test input:**\n",
        "```\n",
        "Dee Thrussell\n",
        "dee@futurecoders.org.uk\n",
        "```\n",
        "**Expected output:**\n",
        "\n",
        "```\n",
        "{'name':'Dee Thrussell', 'email':'dee@futurecoders.org.uk'}\n",
        "```"
      ]
    },
    {
      "cell_type": "code",
      "metadata": {
        "id": "Ac7VQTj94Mrc",
        "colab": {
          "base_uri": "https://localhost:8080/"
        },
        "outputId": "1b5e0857-c2f6-4012-d0b4-154891777248"
      },
      "source": [
        "def signed_up():\n",
        " notices={}\n",
        " notices[\"name\"]=(input(\"please, enter your name\"))\n",
        " notices[\"email\"]=(input(\"please, enter your email\"))\n",
        " print(notices)\n",
        "\n",
        "\n",
        "signed_up()"
      ],
      "execution_count": null,
      "outputs": [
        {
          "output_type": "stream",
          "name": "stdout",
          "text": [
            "please, enter your nameDee Thrussell\n",
            "please, enter your emaildee@futurecoders.org.uk\n",
            "{'name': 'Dee Thrussell', 'email': 'dee@futurecoders.org.uk'}\n"
          ]
        }
      ]
    },
    {
      "cell_type": "markdown",
      "metadata": {
        "id": "0OtNqNKv7WKm"
      },
      "source": [
        "---\n",
        "### Exercise 2 - create a dictionary\n",
        "\n",
        "Write a function that will create two dictionaries,without values:\n",
        "\n",
        "*  notice (with keys: id, notice title, location)\n",
        "*  user (with key/value pairs: name (Dee Thrussell), email (dee@futurecoders.org.uk)\n",
        "*  ask the user to enter the values for the notice dictionary\n",
        "*  print, on one line, the person's name from the user dictionary and the location from the notice dictionary e.g. name likes notices for Medway\n",
        "\n",
        "**Test input:**\n",
        "\n",
        "```\n",
        "notice_id = 1\n",
        "title = summer job fair\n",
        "location = Medway\n",
        "```\n",
        "\n",
        "**Expected output:**\n",
        "```\n",
        "Dee Thrussell likes notices for Medway\n",
        "```"
      ]
    },
    {
      "cell_type": "code",
      "metadata": {
        "id": "ZyqhaBCC-GdI",
        "colab": {
          "base_uri": "https://localhost:8080/"
        },
        "outputId": "95b81395-2f4c-40e4-a7b7-c8f1a1da5c3c"
      },
      "source": [
        "def dictionary():\n",
        "  notice={}\n",
        "  user={'name': 'Dee Thrussell', 'email': 'dee@futurecoders.org.uk'}\n",
        "  notice[\"id\"]=(input(\"please, enter your id \"))\n",
        "  notice[\"notice title\"]=(input(\"please, enter title \"))\n",
        "  notice[\"location\"]=(input(\"please, enter location \"))\n",
        "  print(user[\"name\"],\"likes notices from\", notice[\"location\"])\n",
        "  print(notice)\n",
        "\n",
        "\n",
        "dictionary()"
      ],
      "execution_count": null,
      "outputs": [
        {
          "output_type": "stream",
          "name": "stdout",
          "text": [
            "please, enter your id 1 \n",
            "please, enter title summer job\n",
            "please, enter location Medway\n",
            "Dee Thrussell likes notices from Medway\n",
            "{'id': '1 ', 'notice title': 'summer job', 'location': 'Medway'}\n"
          ]
        }
      ]
    },
    {
      "cell_type": "markdown",
      "metadata": {
        "id": "gYuuOUYw-G4I"
      },
      "source": [
        "---\n",
        "### Exercise 3 - check dictionary values\n",
        "\n",
        "Write a new function which will:\n",
        "\n",
        "*  set up the same two dictionaries as in Exercise 2\n",
        "*  ask the user to enter their age to complete the person record\n",
        "*  calculate the user's age\n",
        "*  if the user is under 18 then print a message to say \"You are too young to use this app.\"\n",
        "*  else if the person is 18 or over, print a message to say \"notices for Medway are being displayed now\"\n",
        "*  ask the user to enter the location they want to see notices for\n",
        "*  if the user enters Medway print a message to say \"great we have notices for Medway\" otherwise there are not any notices for Medway at the moment.\n",
        "\n",
        "\n",
        "**Test input:**\n",
        "```\n",
        "notice_id = 1\n",
        "title = summer job fair\n",
        "location = Medway\n",
        "age = 18\n",
        "```\n",
        "\n",
        "**Expected output:**\n",
        "```\n",
        "notices for Medway are being displayed now\n",
        "```\n",
        "\n",
        "**Test input:**\n",
        "```\n",
        "notice_id = 1\n",
        "title = summer job fair\n",
        "location = Medway\n",
        "age = 16\n",
        "```\n",
        "\n",
        "**Expected output:**\n",
        "```\n",
        "You are too young to use this app.\n",
        "```\n"
      ]
    },
    {
      "cell_type": "code",
      "metadata": {
        "id": "Wp9Il2JG_hDh",
        "colab": {
          "base_uri": "https://localhost:8080/"
        },
        "outputId": "36478dad-ed33-4208-9d5d-6cdfc32b0713"
      },
      "source": [
        "def dictionary():\n",
        "  notice={}\n",
        "  user={'name': 'Dee Thrussell', 'email': 'dee@futurecoders.org.uk'}\n",
        "  notice[\"id\"]=(input(\"please, enter your id \"))\n",
        "  notice[\"notice title\"]=(input(\"please, enter title \"))\n",
        "  notice[\"location\"]=(input(\"please, enter location \"))\n",
        "  user[\"age\"]=int(input(\"please, enter your age \"))\n",
        "  if user['age']<18:\n",
        "    print(\"You are too young to use this app.\")\n",
        "  else:\n",
        "    print( \"notices for Medway are being displayed now\")\n",
        "    location=(input(\"enter the location they want to see notices for \"))\n",
        "    if location==\"Medway\":\n",
        "     print( \"great we have notices for Medway\")\n",
        "    else:\n",
        "     print(\"there are not any notices for Medway at the moment.\")\n",
        "\n",
        "\n",
        "\n",
        "dictionary()"
      ],
      "execution_count": null,
      "outputs": [
        {
          "output_type": "stream",
          "name": "stdout",
          "text": [
            "please, enter your id 1\n",
            "please, enter title summer job\n",
            "please, enter location Medway\n",
            "please, enter your age 30\n",
            "notices for Medway are being displayed now\n",
            "enter the location they want to see notices for Medway\n",
            "great we have notices for Medway\n"
          ]
        }
      ]
    },
    {
      "cell_type": "markdown",
      "source": [
        "**NOTE**\n",
        "\n",
        "The following exercises are designed to develop your learning on dictionaries, and are not specific to the noticeboard app."
      ],
      "metadata": {
        "id": "tylfHZ7_OW9A"
      }
    },
    {
      "cell_type": "markdown",
      "metadata": {
        "id": "I6dUiRwn7Gkg"
      },
      "source": [
        "---\n",
        "### Exercise 4 - print keys and values\n",
        "\n",
        "Two dictionaries have been created below.  You can print a list of the dictionary's keys using `dictionary_name.keys()` and the values using `dictionary_name.values()`\n",
        "\n",
        "Write a function which will accept a dictionary as a parameter and will:\n",
        "*  print the dictionary keys as a list\n",
        "*  print the dictionary values as a list\n",
        "\n",
        "*Hint*:  you will need to cast the keys as a list (`list(dictionary_name.keys()`)  and do the same for the values.\n",
        "\n",
        "**Expected Output**\n",
        "\n",
        "Input: English\n",
        "Output:\n",
        "['Andy', 'Angela']\n",
        "[95, 53]\n",
        "\n",
        "Input: Maths\n",
        "Output:\n",
        "['Andy', 'Angela']\n",
        "[58, 72]\n",
        "\n",
        "\n",
        "\n"
      ]
    },
    {
      "cell_type": "code",
      "metadata": {
        "id": "FApOckhJEsMs",
        "colab": {
          "base_uri": "https://localhost:8080/"
        },
        "outputId": "e4941da8-79cf-4583-c6c0-93299fb17fe5"
      },
      "source": [
        "def display_dictionary():\n",
        "  english_scores = {'Andy': 95, 'Angela': 53}\n",
        "  maths_scores = {'Andy': 58, 'Angela': 72}\n",
        "  print(list(english_scores.keys()))\n",
        "  print(list(english_scores.values()))\n",
        "  print(list(maths_scores.keys()))\n",
        "  print(list(maths_scores.values()))\n",
        "display_dictionary()"
      ],
      "execution_count": null,
      "outputs": [
        {
          "output_type": "stream",
          "name": "stdout",
          "text": [
            "['Andy', 'Angela']\n",
            "[95, 53]\n",
            "['Andy', 'Angela']\n",
            "[58, 72]\n"
          ]
        }
      ]
    },
    {
      "cell_type": "markdown",
      "metadata": {
        "id": "segSpkmBFSJl"
      },
      "source": [
        "---\n",
        "### Exercise 5 - add field\n",
        "\n",
        "Write a function which will:\n",
        "\n",
        "*  create a new dictionary called **science_scores** with values of 0 for both Andy and Angela\n",
        "*  update Andy's score for science to 73 and Angela's score to 73\n",
        "*  create a new key/value pair by adding another learner to the `science_scores`  dictionary (George has a score of 55)\n",
        "*  print the `science_scores` dictionary to check results\n",
        "\n",
        "Expected Output\n",
        "\n",
        "{'Andy': 73, 'Angela': 73, 'George': 55}"
      ]
    },
    {
      "cell_type": "code",
      "metadata": {
        "id": "BL1JM-Z7Gttf",
        "colab": {
          "base_uri": "https://localhost:8080/"
        },
        "outputId": "0efd38c2-59d7-49db-92fe-196422d019c8"
      },
      "source": [
        "def dictionary():\n",
        "  science_scores = {'Andy': 0, 'Angela': 0}\n",
        "  science_scores[\"Andy\"]=\"73\"\n",
        "  science_scores[\"Angela\"]=73\n",
        "  science_scores[\"George\"]=55\n",
        "  print(science_scores)\n",
        "\n",
        "dictionary()"
      ],
      "execution_count": null,
      "outputs": [
        {
          "output_type": "stream",
          "name": "stdout",
          "text": [
            "{'Andy': '73', 'Angela': 73, 'George': 55}\n"
          ]
        }
      ]
    },
    {
      "cell_type": "markdown",
      "metadata": {
        "id": "_Vzv0zlHGt-C"
      },
      "source": [
        "---\n",
        "### Exercise 6 - loop through keys/value pairs\n",
        "\n",
        "Write a function which will use a *for* loop to print the each key/value pair in the science dictionary (recreate this dictionary in this function)\n",
        "\n",
        "*(Hint: you can iterate through the key/value pairs in the dictionary in the same way as you iterate through a loop (e.g. for record in dictionary) and print the record (which is the key) and its value)*\n",
        "\n",
        "Expected output:\n",
        "\n",
        "Angela 72\n",
        "Andy 72\n",
        "George 55"
      ]
    },
    {
      "cell_type": "code",
      "metadata": {
        "id": "JL40_-W-Hxnt",
        "colab": {
          "base_uri": "https://localhost:8080/"
        },
        "outputId": "920d3470-9129-464a-f202-aaada0615336"
      },
      "source": [
        "def dictionary():\n",
        "  science_scores = {'Andy':\"0\", 'Angela':\"0\"}\n",
        "  science_scores[\"Andy\"]=\"72\"\n",
        "  science_scores[\"Angela\"]=\"72\"\n",
        "  science_scores[\"George\"]=\"55\"\n",
        "  print(science_scores)\n",
        "  for record in science_scores:\n",
        "    print(record,science_scores[record])\n",
        "\n",
        "dictionary()"
      ],
      "execution_count": null,
      "outputs": [
        {
          "output_type": "stream",
          "name": "stdout",
          "text": [
            "{'Andy': '72', 'Angela': '72', 'George': '55'}\n",
            "Andy 72\n",
            "Angela 72\n",
            "George 55\n"
          ]
        }
      ]
    },
    {
      "cell_type": "markdown",
      "metadata": {
        "id": "G9wamxzRJdrE"
      },
      "source": [
        "---\n",
        "### Exercise 7 - generate new dictionary\n",
        "\n",
        "Write a functions which will:\n",
        "*  create a new dictionary where the keys are numbers between 1 and 15 (both included) and the values are square of keys\n",
        "*  print the dictionary\n",
        "\n",
        "Expected output:\n",
        "{1: 1, 2: 4, 3: 9, 4: 16, 5: 25, 6: 36, 7: 49, 8: 64, 9: 81, 10: 100, 11: 121, 12: 144, 13: 169, 14: 196, 15: 225}"
      ]
    },
    {
      "cell_type": "code",
      "metadata": {
        "id": "1-LI-LVrJ--N",
        "colab": {
          "base_uri": "https://localhost:8080/"
        },
        "outputId": "c2a909a5-3d9a-48ba-88fd-266b06c25159"
      },
      "source": [
        "def nums():\n",
        "  nums=range(1,16)\n",
        "  l1=[]\n",
        "  l2=[]\n",
        "  for num in nums:\n",
        "    l1.append(num)\n",
        "  #print( l1)\n",
        "  for num in nums:\n",
        "   l2.append(num*num)\n",
        "  #print(l2)\n",
        "  d1=zip(l1,l2)\n",
        "  dictionary=(dict(d1))\n",
        "  print(dictionary)\n",
        "\n",
        "\n",
        "nums()"
      ],
      "execution_count": null,
      "outputs": [
        {
          "output_type": "stream",
          "name": "stdout",
          "text": [
            "{1: 1, 2: 4, 3: 9, 4: 16, 5: 25, 6: 36, 7: 49, 8: 64, 9: 81, 10: 100, 11: 121, 12: 144, 13: 169, 14: 196, 15: 225}\n"
          ]
        }
      ]
    },
    {
      "cell_type": "markdown",
      "metadata": {
        "id": "t0y4mefwJ_jQ"
      },
      "source": [
        "---\n",
        "### Exercise 8 - colour dictionary\n",
        "\n",
        "Write a function which will:\n",
        "*  create a new dictionary record called colour_codes with the values 'red' - '#FF0000', 'green' - '#008000', 'black' - '#000000', 'white' - '#FFFFFF'\n",
        "*  add a new colour code:  'blue' - '#0000FF'\n",
        "*  remove the colours black and white from the dictionary\n",
        "\n",
        "*Hint:  there is a list of methods [here](https://www.w3schools.com/python/python_ref_dictionary.asp)*"
      ]
    },
    {
      "cell_type": "code",
      "metadata": {
        "id": "yod1mUNOMeWg",
        "colab": {
          "base_uri": "https://localhost:8080/"
        },
        "outputId": "3220d99d-d065-4d72-cdcf-6ffbb3bdb391"
      },
      "source": [
        "def dictionary():\n",
        " colour_codes={'red':'#FF0000', 'green':'#008000', 'black':'#000000', 'white':'#FFFFFF'}\n",
        " colour_codes['blue'] = '#0000FF'\n",
        " colour_codes.pop(\"white\")\n",
        " colour_codes.pop(\"black\")\n",
        " print(colour_codes)\n",
        "dictionary()\n"
      ],
      "execution_count": null,
      "outputs": [
        {
          "output_type": "stream",
          "name": "stdout",
          "text": [
            "{'red': '#FF0000', 'green': '#008000', 'blue': '#0000FF'}\n"
          ]
        }
      ]
    },
    {
      "cell_type": "markdown",
      "metadata": {
        "id": "gjos_0vuMeyS"
      },
      "source": [
        "---\n",
        "### Exercise 9 - item tuples\n",
        "\n",
        "Write a function which will:\n",
        "*  create a new dictionary containing the colour codes for red, green, blue, black and white\n",
        "*  print the key/value pairs of a dictionary as a list of tuples\n",
        "\n",
        "*Hint:  iterate through colours.items()*"
      ]
    },
    {
      "cell_type": "code",
      "metadata": {
        "id": "EzuMkUypOKTY",
        "colab": {
          "base_uri": "https://localhost:8080/"
        },
        "outputId": "2113ca32-83b4-4a7a-abb0-dd103cea824f"
      },
      "source": [
        "def dictionary():\n",
        " colour_codes={'red':'#FF0000', 'green':'#008000', 'black':'#000000', 'white':'#FFFFFF'}\n",
        " colour_codes['blue'] = '#0000FF'\n",
        " x=colour_codes.items()\n",
        " print(x)\n",
        "dictionary()\n"
      ],
      "execution_count": null,
      "outputs": [
        {
          "output_type": "stream",
          "name": "stdout",
          "text": [
            "dict_items([('red', '#FF0000'), ('green', '#008000'), ('black', '#000000'), ('white', '#FFFFFF'), ('blue', '#0000FF')])\n"
          ]
        }
      ]
    },
    {
      "cell_type": "markdown",
      "metadata": {
        "id": "Jw1ot10cOc6r"
      },
      "source": [
        "---\n",
        "### Exercise 10 - check if empty\n",
        "Taken from w3resouce.com\n",
        "\n",
        "Write a function which will check if a dictionary is empty or not\n",
        "\n",
        "*Hint:  you can use bool(dictionary_name), if the dictionary is empty then bool(dictionary_name will be false)*\n",
        "\n",
        "Test 1 sample data:\n",
        "{}\n",
        "\n",
        "Expected output:\n",
        "Dictionary is empty\n",
        "\n",
        "Test 2 sample data:\n",
        "{\"name\":\"Groucho\", \"occupation\":\"comedian\"}\n",
        "\n",
        "Expected output:\n",
        "Dictionary is not empty"
      ]
    },
    {
      "cell_type": "code",
      "metadata": {
        "id": "7UdM1TfwRqnt",
        "colab": {
          "base_uri": "https://localhost:8080/"
        },
        "outputId": "130db269-7cdd-497e-9382-33085c4eab6b"
      },
      "source": [
        "def check_if_empty():\n",
        "  dict1 = {}\n",
        "  dict2={\"name\":\"Groucho\", \"occupation\":\"comedian\"}\n",
        "  print(\"The dict1 is not empty! :\",(dict1),bool(dict1))\n",
        "  print(\"The dict2 is not empty! :\",(dict2),bool(dict2))\n",
        "\n",
        "\n",
        "\n",
        "check_if_empty()"
      ],
      "execution_count": 63,
      "outputs": [
        {
          "output_type": "stream",
          "name": "stdout",
          "text": [
            "The dict1 is not empty! : {} False\n",
            "The dict2 is not empty! : {'name': 'Groucho', 'occupation': 'comedian'} True\n"
          ]
        }
      ]
    }
  ]
}