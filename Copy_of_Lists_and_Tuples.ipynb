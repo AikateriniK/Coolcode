{
  "nbformat": 4,
  "nbformat_minor": 0,
  "metadata": {
    "colab": {
      "provenance": [],
      "include_colab_link": true
    },
    "kernelspec": {
      "name": "python3",
      "display_name": "Python 3"
    },
    "language_info": {
      "name": "python"
    }
  },
  "cells": [
    {
      "cell_type": "markdown",
      "metadata": {
        "id": "view-in-github",
        "colab_type": "text"
      },
      "source": [
        "<a href=\"https://colab.research.google.com/github/AikateriniK/Coolcode/blob/main/Copy_of_Lists_and_Tuples.ipynb\" target=\"_parent\"><img src=\"https://colab.research.google.com/assets/colab-badge.svg\" alt=\"Open In Colab\"/></a>"
      ]
    },
    {
      "cell_type": "markdown",
      "metadata": {
        "id": "Z-M-RCWATK71"
      },
      "source": [
        "# Lists and tuples\n",
        "\n",
        "Often we need to store a number of single items of data together so that they can be processed together. This might be because all the data refers to one person (e.g. name, age, gender, etc) OR it might be because we have a set of data (e.g. all the items that should be displayed in a drop down list, such as all the years from this year back to 100 years ago so that someone can select their year of birth)\n",
        "\n",
        "Python has a range of data structures available including:\n",
        "*   lists\n",
        "*   tuples\n",
        "*   dictionaries\n",
        "*   sets\n",
        "\n",
        "This worksheet looks at lists and tuples.\n",
        "\n",
        "## List\n",
        "A list is a set of related, individual data objects, that are indexed and can be processed as a whole, as subsets or as individual items.  Lists are stored, essentially, as contiguous items in memory so that access can be as quick as possible.  However, they are mutable (they can be changed after they are created and stored) and so those mechanisms need to include extra functionality to deal with changing list sizes.\n",
        "\n",
        "## Tuple\n",
        "Essentially the same as a list but it is immutable.  Once it has been created it can't be changed.  It is stored in memory as contiguous items, with the size required being fixed right from the start.  This makes it faster to access.\n",
        "\n",
        "The code below will create two lists and a tuple.\n",
        "*   the first list contains 1000 random numbers between 1 and 100\n",
        "*   the second list is of random length (up to 5000) and each item is one of the 9 characteristics that are protected under the Equality Act in the UK.\n",
        "*   the tuple contains the 9 protected characteristics\n",
        "\n",
        "Before you start the exercises, run the code cell below.  It will generate the lists and tuple so that you can use them in the exercises.  If you need to recreate the lists again (because you have changed them and need to work on the originals, just run this cell again).\n",
        "\n",
        "***Note:***  *a list variable contains a reference to the start of the list in memory, rather than storing the list itself.  This means that if you assign the list to another variable (to make a copy), it will only copy across the reference.  If you change the copy, you change the original list.*\n",
        "\n",
        "*If you need to make a copy of the list you will need to use a loop to create a new list and copy all items across.*"
      ]
    },
    {
      "cell_type": "code",
      "metadata": {
        "id": "BDRckXeQXFMT"
      },
      "source": [
        "from random import randint, choice\n",
        "\n",
        "def get_num_list():\n",
        "  num_list = [randint(1,100) for n in range(1000)]\n",
        "  return num_list\n",
        "\n",
        "def get_protected_characteristics():\n",
        "  characteristics_tuple = ('age','disability','gender reassignment','marriage and civil partnership','pregnancy and maternity','race','religion or belief','sex','sexual orientation')\n",
        "  return characteristics_tuple\n",
        "\n",
        "def get_protected_characteristic_list(protected_characteristics):\n",
        "  char_list = [choice(protected_characteristics) for ch in range(randint(1,5000))]\n",
        "  return char_list\n",
        "\n",
        "nums = get_num_list()\n",
        "protected_characteristics = get_protected_characteristics()\n",
        "characteristics = get_protected_characteristic_list(protected_characteristics)"
      ],
      "execution_count": 5,
      "outputs": []
    },
    {
      "cell_type": "markdown",
      "metadata": {
        "id": "xXT38-4ZV45n"
      },
      "source": [
        "## The exercises below will use the lists:\n",
        "*   **nums** (a list of between 1 and 1000 random numbers, each number is between 0 and 1000)\n",
        "*   **characteristics** (a list of 5000 random protected_characteristics)\n",
        "\n",
        "and the tuple:\n",
        "*  **protected_characteristics** (a set of the 9 protected characteristics identified in the Equality Act)\n",
        "\n",
        "## You can run the cell above any number of times to generate new lists."
      ]
    },
    {
      "cell_type": "markdown",
      "metadata": {
        "id": "Ft0dXl7fUuaK"
      },
      "source": [
        "---\n",
        "### Exercise 1 - list head, tail and shape\n",
        "\n",
        "Write a function, **describe_list()** which will:\n",
        "*  print the length of the list `nums`\n",
        "*  print the first 10 items in `nums`\n",
        "*  print the last 5 items in `nums`\n",
        "\n",
        "**Expected output**\n",
        "Length is between 1 and 1000\n",
        "A list of 10 numbers between 1 and 100\n",
        "A list of 5 numbers between 1 and 100"
      ]
    },
    {
      "cell_type": "code",
      "metadata": {
        "id": "jUcZD7mmTJdA",
        "colab": {
          "base_uri": "https://localhost:8080/"
        },
        "outputId": "c04c8072-dc84-4859-ecae-9aa08e6a1783"
      },
      "source": [
        "def describe_list():\n",
        "  #write a function to print items from the list\n",
        " print(len(nums))\n",
        " print(nums[:10])\n",
        " print(nums[-5:])\n",
        "\n",
        "# run the describe_list() function and observe the output\n",
        "describe_list()"
      ],
      "execution_count": null,
      "outputs": [
        {
          "output_type": "stream",
          "name": "stdout",
          "text": [
            "1000\n",
            "[51, 62, 95, 38, 71, 92, 93, 97, 95, 24]\n",
            "[41, 25, 89, 40, 67]\n"
          ]
        }
      ]
    },
    {
      "cell_type": "markdown",
      "metadata": {
        "id": "yNWg08k6bXv0"
      },
      "source": [
        "---\n",
        "### Exercise 2 - show tuple items\n",
        "\n",
        "Write a function which will:\n",
        "*   use a loop to print the list of protected characteristics from the `protected_characteristics` tuple.\n"
      ]
    },
    {
      "cell_type": "code",
      "metadata": {
        "id": "P2HnCG9pb1BS",
        "colab": {
          "base_uri": "https://localhost:8080/"
        },
        "outputId": "a787600d-82d3-43be-9ba4-ef6973af150c"
      },
      "source": [
        "def print_protected_chars():\n",
        "  #write a function that will print the list of protected characteristics\n",
        " for characteristics in protected_characteristics:\n",
        "  print(characteristics)\n",
        "\n",
        "\n",
        "\n",
        "# run the function print_protected_chars()\n",
        "print_protected_chars()"
      ],
      "execution_count": null,
      "outputs": [
        {
          "output_type": "stream",
          "name": "stdout",
          "text": [
            "age\n",
            "disability\n",
            "gender reassignment\n",
            "marriage and civil partnership\n",
            "pregnancy and maternity\n",
            "race\n",
            "religion or belief\n",
            "sex\n",
            "sexual orientation\n"
          ]
        }
      ]
    },
    {
      "cell_type": "markdown",
      "metadata": {
        "id": "RTSuQZs4b1JU"
      },
      "source": [
        "---\n",
        "### Exercise 3 - list a random subset\n",
        "\n",
        "Write a function which will:\n",
        "*  calculate the position of the middle item in the `characteristics` list\n",
        "(*Hint: use len() to help with this*)\n",
        "*  calculate the position of the item that is 5 places before the middle item\n",
        "*  calculate the position of the item that is 5 places after the middle item\n",
        "*  print the part of the list that includes the items from 5 places before to 5 places after.\n",
        "\n",
        "Expected output:\n",
        "Your list will include 10 items."
      ]
    },
    {
      "cell_type": "code",
      "source": [
        "def print_mid_items():\n",
        "  print(len(characteristics))\n",
        "  x = (len(characteristics)/2)+0.5\n",
        "  print(x)\n",
        "  print(characteristics[623])\n",
        "  x1=x-5\n",
        "  print(x1)\n",
        "  print(characteristics[618])\n",
        "  x2=x+5\n",
        "  print(x2)\n",
        "  print(characteristics[628])\n",
        "  print(characteristics[618:623],characteristics[624:629])\n",
        "\n",
        "\n",
        "\n",
        "print_mid_items()"
      ],
      "metadata": {
        "colab": {
          "base_uri": "https://localhost:8080/"
        },
        "id": "hMVo-1z3ZrKE",
        "outputId": "0d7d0492-f516-4de1-c94c-9734dbaa2464"
      },
      "execution_count": null,
      "outputs": [
        {
          "output_type": "stream",
          "name": "stdout",
          "text": [
            "1245\n",
            "623.0\n",
            "marriage and civil partnership\n",
            "618.0\n",
            "gender reassignment\n",
            "628.0\n",
            "sex\n",
            "['gender reassignment', 'sexual orientation', 'race', 'race', 'age'] ['disability', 'marriage and civil partnership', 'sex', 'race', 'sex']\n"
          ]
        }
      ]
    },
    {
      "cell_type": "markdown",
      "metadata": {
        "id": "KS0x3oFNePI9"
      },
      "source": [
        "---\n",
        "### Exercise 4 - create a copy\n",
        "\n",
        "Write a function which will use a for loop to create a copy of the `nums` list:\n",
        "\n",
        "*   create a new, empty, list called **new_nums**  (*Hint: an empty list is [ ]*)\n",
        "*   use a `for` loop which uses the following syntax:  `for num in nums:`\n",
        "*   each time round the loop append `num` to `new_nums`  ( *`new_nums.append(num)`*)\n",
        "*   print the first 10 items of `new_nums`\n",
        "*   print the first 10 items of `nums`\n",
        "*   print the length of both lists"
      ]
    },
    {
      "cell_type": "code",
      "metadata": {
        "id": "mpK1Ip3we-uC",
        "colab": {
          "base_uri": "https://localhost:8080/"
        },
        "outputId": "7e5c7b9a-63bd-417e-d1f7-1701ede73a20"
      },
      "source": [
        "def display_new_nums():\n",
        "  new_nums=[]\n",
        "  for num in nums:\n",
        "    new_nums.append(num)\n",
        "  print(\"first 10 items of new nums\", new_nums[:10])\n",
        "  print(\"first 10 items of nums\",nums[:10])\n",
        "  print(len(nums),len(new_nums))\n",
        "display_new_nums()"
      ],
      "execution_count": null,
      "outputs": [
        {
          "output_type": "stream",
          "name": "stdout",
          "text": [
            "first 10 items of new nums [51, 62, 95, 38, 71, 92, 93, 97, 95, 24]\n",
            "first 10 items of nums [51, 62, 95, 38, 71, 92, 93, 97, 95, 24]\n",
            "1000 1000\n"
          ]
        }
      ]
    },
    {
      "cell_type": "markdown",
      "metadata": {
        "id": "deUIFWjRe-3G"
      },
      "source": [
        "---\n",
        "### Exercise 5 - count the occurrence of age in characteristics\n",
        "\n",
        "Write a function which will use the list method:\n",
        "\n",
        "`list_name.count(item)`\n",
        "\n",
        "to count the number of occurrences of 'age' in the `characteristics` list.  Print the result."
      ]
    },
    {
      "cell_type": "code",
      "metadata": {
        "id": "b9TrHQ9hfoIU",
        "colab": {
          "base_uri": "https://localhost:8080/"
        },
        "outputId": "21a5b3c8-95bf-4a74-aacc-d00cd95ab976"
      },
      "source": [
        "def count_age():\n",
        "  print(characteristics.count(\"age\"))\n",
        "  print(protected_characteristics.count(\"age\"))\n",
        "\n",
        "\n",
        "count_age()"
      ],
      "execution_count": null,
      "outputs": [
        {
          "output_type": "stream",
          "name": "stdout",
          "text": [
            "129\n",
            "1\n"
          ]
        }
      ]
    },
    {
      "cell_type": "markdown",
      "metadata": {
        "id": "zm2VI5RmfoSy"
      },
      "source": [
        "---\n",
        "### Exercise 6 - sort the nums list\n",
        "\n",
        "Write a function which will:\n",
        "*   call the function `get_num_list()` and store the result in a new list called **sort_nums**\n",
        "*   print the first, and last, 20 items in the `sort_nums` list\n",
        "*   use the `list_name.sort()` method to sort the `sort_nums` list into ascending order\n",
        "*   print the first, and last, 20 items again\n",
        "*   use the `list_name.sort()` method again to sort the `sort_nums` list into descending order\n",
        "*   print the first, and last, 20 items again"
      ]
    },
    {
      "cell_type": "code",
      "metadata": {
        "id": "Fksgpj9JgWDs",
        "colab": {
          "base_uri": "https://localhost:8080/"
        },
        "outputId": "ce173f99-e296-4454-84c1-4fb2a2e2ea83"
      },
      "source": [
        "def sort_nums():\n",
        "  #write a function to sort the get_num_list() and print given items\n",
        "  sort_nums=get_num_list()\n",
        "  print(sort_nums[:20])\n",
        "  print(sort_nums[-20:])\n",
        "  sort_nums.sort()\n",
        "  print(sort_nums[:20])\n",
        "  print(sort_nums[-20:])\n",
        "\n",
        "# run the function sort_nums() and observe the results\n",
        "sort_nums()"
      ],
      "execution_count": null,
      "outputs": [
        {
          "output_type": "stream",
          "name": "stdout",
          "text": [
            "[45, 20, 86, 73, 68, 11, 86, 5, 47, 60, 71, 19, 68, 43, 78, 94, 99, 29, 95, 71]\n",
            "[43, 85, 45, 45, 21, 15, 75, 47, 39, 67, 47, 68, 7, 22, 95, 73, 92, 87, 79, 100]\n",
            "[1, 1, 1, 1, 1, 1, 1, 1, 1, 1, 2, 2, 2, 2, 2, 2, 2, 2, 2, 2]\n",
            "[99, 99, 99, 99, 99, 99, 99, 99, 99, 99, 99, 99, 100, 100, 100, 100, 100, 100, 100, 100]\n"
          ]
        }
      ]
    },
    {
      "cell_type": "markdown",
      "metadata": {
        "id": "_OF-Xuj1UrW0"
      },
      "source": [
        "---\n",
        "### Exercise 7 - get statistics (max(), min(), sum() )\n",
        "\n",
        "Write a function which will:\n",
        "*   print the maximum and minimum numbers in the `nums` list\n",
        "*   print the sum of the `nums` list\n",
        "*   calculate and print the average of the `nums` list (using `len()` to help)"
      ]
    },
    {
      "cell_type": "code",
      "metadata": {
        "id": "9YmYMenZVGod",
        "colab": {
          "base_uri": "https://localhost:8080/"
        },
        "outputId": "3fc7c0e9-41fb-4a70-e469-34b3fa7aee53"
      },
      "source": [
        "def get_stats():\n",
        "  #write a function to use max(), min() and sum() and print the average\n",
        " print(max(nums))\n",
        " print(min(nums))\n",
        " print(sum(nums))\n",
        " #print(len(nums))\n",
        " print(\"Average is\",sum(nums)/len(nums))\n",
        "\n",
        "# run the function get_stats() and observe the results\n",
        "get_stats()"
      ],
      "execution_count": 6,
      "outputs": [
        {
          "output_type": "stream",
          "name": "stdout",
          "text": [
            "100\n",
            "1\n",
            "49984\n",
            "Average is 49.984\n"
          ]
        }
      ]
    },
    {
      "cell_type": "markdown",
      "metadata": {
        "id": "Mn4tHQ_KVbHa"
      },
      "source": [
        "---\n",
        "### Exercise 8 - percentage difference\n",
        "\n",
        "Write a function which will:\n",
        "*   generate a new list called **get_new_num_stats** using `get_num_list()`\n",
        "*   calculate and print the percentage difference between the first number in each list (as a percentage of the number in the nums list) (*Hint*:  find the difference between the two numbers, divide the difference by the number in `nums` and multiply by 100)\n",
        "*   calculate and print the percentage difference between the last numbers in each list in the same way\n",
        "*   calculate and print the percentage difference between the middle numbers in each list in the same way.\n",
        "*   calculate and print the percentage difference between the sums of each list in the same way"
      ]
    },
    {
      "cell_type": "code",
      "metadata": {
        "id": "nJCQjZIeZL0e",
        "colab": {
          "base_uri": "https://localhost:8080/"
        },
        "outputId": "89674f16-2130-4c31-91f9-77bd45e1c5ce"
      },
      "source": [
        "def get_new_num_stats():\n",
        "  #write a function to generate a new list and calculate percentage differences\n",
        "  get_new_num_stats=get_num_list()\n",
        "  print(get_num_list()[0])\n",
        "  print(get_new_num_stats[0])\n",
        "  difference_first=((get_num_list()[0])-(get_new_num_stats[0]))/(get_num_list()[0])*100\n",
        "  print(\"the percentage difference between the first numbers\",round(difference_first),\"%\")\n",
        "  print(get_num_list()[-1])\n",
        "  print(get_new_num_stats[-1])\n",
        "  difference_last=((get_num_list()[-1])-(get_new_num_stats[-1]))/(get_num_list()[-1])*100\n",
        "  print(\"the percentage difference between the last numbers\",round(difference_last),\"%\")\n",
        "  print(get_num_list()[500])\n",
        "  print(get_new_num_stats[500])\n",
        "  difference_midl=((get_num_list()[500])-(get_new_num_stats[500]))/(get_num_list()[500])*100\n",
        "  print(\" the percentage difference between the middle numbers \",round(difference_midl),\"%\")\n",
        "  print(sum(get_num_list()))\n",
        "  print(sum(get_new_num_stats))\n",
        "  difference_sum=(sum(get_num_list())-sum(get_new_num_stats))/sum(get_num_list())*100\n",
        "  print(\" the percentage difference between the sums \",round(difference_midl),\"%\")\n",
        "\n",
        "# run the function get_new_num_stats() and observe the results\n",
        "get_new_num_stats()"
      ],
      "execution_count": 7,
      "outputs": [
        {
          "output_type": "stream",
          "name": "stdout",
          "text": [
            "54\n",
            "28\n",
            "the percentage difference between the first numbers -4 %\n",
            "33\n",
            "41\n",
            "the percentage difference between the last numbers 233 %\n",
            "64\n",
            "8\n",
            " the percentage difference between the middle numbers  86 %\n",
            "50529\n",
            "51680\n",
            " the percentage difference between the sums  86 %\n"
          ]
        }
      ]
    },
    {
      "cell_type": "markdown",
      "metadata": {
        "id": "pQV2NO8umBSk"
      },
      "source": [
        "# Reflection\n",
        "----\n",
        "\n",
        "## What you learnt through completing this notebook?"
      ]
    },
    {
      "cell_type": "markdown",
      "metadata": {
        "id": "NUVvt2r0mCKq"
      },
      "source": [
        "Your answer:"
      ]
    },
    {
      "cell_type": "markdown",
      "source": [
        "I learnt about lists. The ways to use them, the ways to copy them, to find a specific number in a row . I can find a difference, the min or max number. I can print whole list or just a part of it."
      ],
      "metadata": {
        "id": "iYZwo1AwBGVg"
      }
    },
    {
      "cell_type": "markdown",
      "metadata": {
        "id": "SOrbWOuFmObq"
      },
      "source": [
        "## What caused you the most difficulty?"
      ]
    },
    {
      "cell_type": "markdown",
      "metadata": {
        "id": "G_eGng1GmO78"
      },
      "source": [
        "Your answer:"
      ]
    },
    {
      "cell_type": "markdown",
      "source": [],
      "metadata": {
        "id": "DD1YlxMXBJAg"
      }
    },
    {
      "cell_type": "markdown",
      "source": [
        "I had a difficulty to understand that the first sell can affect all the next functions in the worksheet. I copy paste the parts of the first function, to work out, but the result was different. when I learn that the results in the first function are already in the next functions, the work was much easier."
      ],
      "metadata": {
        "id": "ZstzTYZbBNVP"
      }
    }
  ]
}