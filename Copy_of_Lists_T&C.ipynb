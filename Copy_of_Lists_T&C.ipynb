{
  "nbformat": 4,
  "nbformat_minor": 0,
  "metadata": {
    "colab": {
      "provenance": [],
      "include_colab_link": true
    },
    "kernelspec": {
      "name": "python3",
      "display_name": "Python 3"
    },
    "language_info": {
      "name": "python"
    }
  },
  "cells": [
    {
      "cell_type": "markdown",
      "metadata": {
        "id": "view-in-github",
        "colab_type": "text"
      },
      "source": [
        "<a href=\"https://colab.research.google.com/github/AikateriniK/Coolcode/blob/main/Copy_of_Lists_T%26C.ipynb\" target=\"_parent\"><img src=\"https://colab.research.google.com/assets/colab-badge.svg\" alt=\"Open In Colab\"/></a>"
      ]
    },
    {
      "cell_type": "markdown",
      "metadata": {
        "id": "Z-M-RCWATK71"
      },
      "source": [
        "# Lists\n",
        "\n",
        "Often we need to store a number of single items of data together so that they can be processed together. This might be because all the data refers to one person (e.g. name, age, gender, etc) OR it might be because we have a set of data (e.g. all the categories that a notice relates to)\n",
        "\n",
        "Python has a range of data structures available including:\n",
        "*   lists  \n",
        "*   tuples  \n",
        "*   dictionaries  \n",
        "*   sets\n",
        "\n",
        "This worksheet looks at lists.\n",
        "\n",
        "## List\n",
        "A list is a set of related, individual data objects, that are indexed and can be processed as a whole, as subsets or as individual items.  Lists are stored, essentially, as contiguous items in memory so that access can be as quick as possible.  However, they are mutable (they can be changed after they are created and stored) and so those mechanisms need to include extra functionality to deal with changing list sizes.\n",
        "\n",
        "A list is created with a name and and equals sign, and all the elements in the list are within square brackets, separated by a comma.  If the element is a string, it will also be in speech marks:\n",
        "\n",
        "```\n",
        "categories_list = [\"well being\", \"local events\", \"community events\", \"families and parents\", \"jobs and volunteering\" ]\n",
        "```\n",
        "\n",
        "## List functions\n",
        "\n",
        "**length of list** - counts the elements in a list and returns the total\n",
        "\n",
        "len(categories_list)\n",
        "\n",
        "## List indexing\n",
        "To access individual elements in a list, we use their position.  Positioning is numbered from 0 at the beginning of the list, up to 1-length of list.The first element in the list is at position 0, the second at position 1 and so on. \n",
        "\n",
        "To make it easy to jump to the end of a list, a negative numbering system is used.  The last element is at position -1 (regardless of the length of the list), the second to last is a position -2, etc. So:  \n",
        "\n",
        "`categories_list[0]` - is the first element in the list  \n",
        "`categories_list[-1]` - is the last element in the list   \n",
        "\n",
        "Lists can be sliced using the position of the first element to include and the position after the last element to include.  So:\n",
        "\n",
        "`categories_list[2:4]` - will get the third and fourth element in the list\n",
        "`categories_list[-4::]` - will get the last 4 elements in the list\n",
        "`categories_list[:5]` - will get the first 5 elements in the list  \n",
        "\n",
        "To change an element in a list, assign a new value to the element at a given position:  \n",
        "\n",
        "`categories_list[1] = \"well-being\"` - changes the value of the second element in the list from its original value to its new value\n",
        "\n",
        "## List methods\n",
        "There is a full list of the methods (things a list can do to change itself) here:  https://www.w3schools.com/python/python_ref_list.asp \n",
        "\n",
        "A method is a function that is applied to an object such as a list.  So:\n",
        "\n",
        "`categories_list.append(\"learning\")` will add \"learning\" to the end of the list of categories.\n",
        "\n",
        "A method will change the list directly, so the instruction can stand on its own and doesn't need to store its result back in the original list.\n",
        "\n",
        "\n"
      ]
    },
    {
      "cell_type": "markdown",
      "metadata": {
        "id": "Ft0dXl7fUuaK"
      },
      "source": [
        "---\n",
        "### Exercise 1 - manage list of categories\n",
        "\n",
        "Write a function, **print_categories()** which will:\n",
        "*  create the list **categories_list** and assign the following list [\"well being\", \"local events\", \"community events\", \"families and parents\", \"jobs and volunteering\" ]\n",
        "*  print the length of the list `categories`\n",
        "*  print the list of categories one per line (using a for loop)\n",
        "\n",
        "## Test\n",
        "The expected output is:\n",
        "\n",
        "```\n",
        "5\n",
        "well being\n",
        "local events\n",
        "community events\n",
        "families and parents\n",
        "jobs and volunteering\n",
        "```"
      ]
    },
    {
      "cell_type": "code",
      "source": [
        "def print_categories():\n",
        " categories_list=[\"well being\", \"local events\", \"community events\", \"families and parents\", \"jobs and volunteering\" ]\n",
        " print(len(categories_list))\n",
        " for category in categories_list:\n",
        "  print(category)\n",
        "  \n",
        "print_categories()"
      ],
      "metadata": {
        "id": "QQSxE92IVlHg",
        "colab": {
          "base_uri": "https://localhost:8080/"
        },
        "outputId": "a20d92ae-bd93-44cf-9b00-0ea1a284069d"
      },
      "execution_count": 4,
      "outputs": [
        {
          "output_type": "stream",
          "name": "stdout",
          "text": [
            "5\n",
            "well being\n",
            "local events\n",
            "community events\n",
            "families and parents\n",
            "jobs and volunteering\n"
          ]
        }
      ]
    },
    {
      "cell_type": "markdown",
      "source": [
        "---\n",
        "### Exercise 2 - change item in list\n",
        "\n",
        "Write a function, **change_categories()** which will:\n",
        "*  create the same list (**categories list**)\n",
        "*  amend the first item in the list so it reads **well-being**\n",
        "*  print the list (as it is)\n",
        "*  return the list of categories\n",
        "\n",
        "**Expected Output**\n",
        "\n",
        "```\n",
        "['well-being','local events','community events','families and parents','jobs and volunteering']\n",
        "```"
      ],
      "metadata": {
        "id": "9YkKNJNrfYiy"
      }
    },
    {
      "cell_type": "code",
      "source": [
        "def change_categories():\n",
        "  categories_list=[\"well being\", \"local events\", \"community events\", \"families and parents\", \"jobs and volunteering\" ]\n",
        "  categories_list[0]=\"well-being\"\n",
        "  print(categories_list)\n",
        "  return categories_list\n",
        "\n",
        "change_categories()"
      ],
      "metadata": {
        "id": "ryPTakrmgeDj",
        "colab": {
          "base_uri": "https://localhost:8080/"
        },
        "outputId": "7ed757ab-a3ea-4264-8bb6-5a1631cfb744"
      },
      "execution_count": 9,
      "outputs": [
        {
          "output_type": "stream",
          "name": "stdout",
          "text": [
            "['well-being', 'local events', 'community events', 'families and parents', 'jobs and volunteering']\n"
          ]
        },
        {
          "output_type": "execute_result",
          "data": {
            "text/plain": [
              "['well-being',\n",
              " 'local events',\n",
              " 'community events',\n",
              " 'families and parents',\n",
              " 'jobs and volunteering']"
            ]
          },
          "metadata": {},
          "execution_count": 9
        }
      ]
    },
    {
      "cell_type": "markdown",
      "source": [
        "---\n",
        "### Exercise 3 - add to list of categories\n",
        "\n",
        "Write a function, **add_category(new_category)** which will:  \n",
        "*  create the same `categories_list` again\n",
        "*  add the new category name in the brackets, as the parameter **new_category** to the list.  _Hint: use `.append(new_category)`_\n",
        "*  print the list of categories (using a loop)\n",
        "\n",
        "**Add a function call** to run the function with the new category \"learning\" e.g:\n",
        "`add_category(\"learning\")`\n",
        "\n",
        "## Test:\n",
        "\n",
        "The expected output is that the original list is printed with the new category added to the end.\n",
        "\n",
        "```\n",
        "well-being\n",
        "local events\n",
        "community events\n",
        "families and parents\n",
        "jobs and volunteering\n",
        "learning\n",
        "```"
      ],
      "metadata": {
        "id": "KpOFEmxJTnXk"
      }
    },
    {
      "cell_type": "code",
      "metadata": {
        "id": "P2HnCG9pb1BS",
        "colab": {
          "base_uri": "https://localhost:8080/"
        },
        "outputId": "e216c8d1-a9b3-4ba7-8a0d-9269d46b270c"
      },
      "source": [
        "def add_category(new_category):\n",
        "  categories_list=[\"well being\", \"local events\", \"community events\", \"families and parents\", \"jobs and volunteering\" ]\n",
        "  categories_list.append(new_category)\n",
        "  for category in categories_list:\n",
        "   print(category)\n",
        "\n",
        "add_category(\"learning\")"
      ],
      "execution_count": 15,
      "outputs": [
        {
          "output_type": "stream",
          "name": "stdout",
          "text": [
            "well being\n",
            "local events\n",
            "community events\n",
            "families and parents\n",
            "jobs and volunteering\n",
            "learning\n"
          ]
        }
      ]
    },
    {
      "cell_type": "markdown",
      "metadata": {
        "id": "yNWg08k6bXv0"
      },
      "source": [
        "---\n",
        "### Exercise 4 - create list of locations\n",
        "\n",
        "Write a function **show_locations()** which will:\n",
        "*  create a new list **noticeboard_locations** and add at least 6 locations to the list e.g. Dartford, Medway, Maidstone\n",
        "*  print the list of locations using a loop \n",
        "\n",
        "## Test\n",
        "An example of the list might be:\n",
        "\n",
        "Dartford  \n",
        "Medway  \n",
        "Maidstone  \n",
        "Tunbridge Wells  \n",
        "Dover  "
      ]
    },
    {
      "cell_type": "code",
      "source": [
        "def show_locations():\n",
        "  noticeboard_locations=[\"Dartford\",\"Medway\",\"Maidstone\",\"Tunbridge Wells\",\"Dover\",\"Sevenoaks\"]\n",
        "  for location in noticeboard_locations:\n",
        "   print(location)\n",
        "\n",
        "\n",
        "\n",
        "show_locations()  "
      ],
      "metadata": {
        "id": "KGJJyOB3VyEK",
        "colab": {
          "base_uri": "https://localhost:8080/"
        },
        "outputId": "9322206b-88a1-4e18-ce90-cfa64c5edb84"
      },
      "execution_count": 18,
      "outputs": [
        {
          "output_type": "stream",
          "name": "stdout",
          "text": [
            "Dartford\n",
            "Medway\n",
            "Maidstone\n",
            "Tunbridge Wells\n",
            "Dover\n",
            "Sevenoaks\n"
          ]
        }
      ]
    },
    {
      "cell_type": "markdown",
      "source": [
        "---\n",
        "### Exercise 5 - create list of preferences\n",
        "\n",
        "Write a function **filter_locations()** which will:\n",
        "*  create a new list **locations** and assign the list ['Dartford','Medway','Maidstone','Tunbridge Wells','Dover']\n",
        "*  create a second, empty, list **filtered_locations**\n",
        "*  iterate through the list of `locations` and if the location starts with the letter \"M\", append that location to the new list (**filtered_locations**)\n",
        "*  print the length of each list\n",
        "*  print the first and last items in the `filtered_locations` list \n",
        "*  return the `filtered_locations` list\n",
        "\n",
        "## Test\n",
        "\n",
        "The expected output is:\n",
        "\n",
        "```\n",
        "5\n",
        "2\n",
        "Medway  \n",
        "Maidstone\n",
        "```\n",
        "\n"
      ],
      "metadata": {
        "id": "ddvD-szJXcPo"
      }
    },
    {
      "cell_type": "code",
      "source": [
        "def  filter_locations():\n",
        "  locations=[\"Dartford\",\"Medway\",\"Maidstone\",\"Tunbridge Wells\",\"Dover\"]\n",
        "  filtered_locations=[]\n",
        "  start_letter=\"M\"\n",
        "  for i in locations:\n",
        "   if i[0]==start_letter:\n",
        "    filtered_locations.append(i)\n",
        "  print(len(locations))\n",
        "  print(len(filtered_locations))\n",
        "  print (filtered_locations[0])\n",
        "  print(filtered_locations[-1])\n",
        "  return filtered_locations\n",
        "  \n",
        "filter_locations() "
      ],
      "metadata": {
        "id": "JA68Wc96Xe9K",
        "colab": {
          "base_uri": "https://localhost:8080/"
        },
        "outputId": "ed7ed181-8927-4c5a-f3ec-c519d448a4e5"
      },
      "execution_count": 44,
      "outputs": [
        {
          "output_type": "stream",
          "name": "stdout",
          "text": [
            "5\n",
            "2\n",
            "Medway\n",
            "Maidstone\n"
          ]
        },
        {
          "output_type": "execute_result",
          "data": {
            "text/plain": [
              "['Medway', 'Maidstone']"
            ]
          },
          "metadata": {},
          "execution_count": 44
        }
      ]
    },
    {
      "cell_type": "markdown",
      "source": [
        "---\n",
        "### Exercise 6 - is item in list or not?\n",
        "\n",
        "Write a function **is_in_lists()** which will:\n",
        "*  create a new list **all_locations** and assign this set of locations:  Maidstone, Medway, Dartford, Dover, Tunbridge Wells, Tonbridge, Sevenoaks\n",
        "*  create a second list **notice_locations** and assign this set of locations:  Dartford, Medway, Gravesend\n",
        "*  check whether Medway is in both lists and print either \"Medway is in both lists\", or \"Medway is in one list\", or \"Medway is not in either list\", as appropriate.\n",
        "\n",
        "## Test 1\n",
        "Follow the instructions above.  The expected output is:  \n",
        "`Medway is in both lists`\n",
        "\n",
        "## Test 2\n",
        "Remove Medway from the notice_locations list and run the code again.  The expected output is:  \n",
        "`Medway is in one list`\n",
        "\n",
        "## Test 3\n",
        "Remove Medway from the all_locations list and run the code again.  The expected output is:  \n",
        "`Medway is not in either list`"
      ],
      "metadata": {
        "id": "o1R8Tp4zlm-b"
      }
    },
    {
      "cell_type": "code",
      "source": [
        "def  is_in_lists():\n",
        "  all_locations=[\"Maidstone\",\"Dartford\",\"Dover\",\"Medway\",\"Tunbridge Wells\",\"Tonbridge\",\"Sevenoaks\"]\n",
        "  notice_locations=[\"Dartford\",\"Gravesend\",\"Medway\"]\n",
        "  x=\"Medway\"\n",
        "  if x in all_locations and x in notice_locations:\n",
        "    print(x,\"is in both lists\")\n",
        "  elif x in all_locations or x in notice_locations:\n",
        "    print(x,\"is in one list\")\n",
        "  else:\n",
        "    print(x,\"is not in either list\")\n",
        "\n",
        "is_in_lists()"
      ],
      "metadata": {
        "id": "9fxDH5MIm3sW",
        "colab": {
          "base_uri": "https://localhost:8080/"
        },
        "outputId": "7f5eb5ed-d1d8-4c35-97d2-f8c062d46e57"
      },
      "execution_count": 9,
      "outputs": [
        {
          "output_type": "stream",
          "name": "stdout",
          "text": [
            "Medway is in both lists\n"
          ]
        }
      ]
    },
    {
      "cell_type": "markdown",
      "source": [
        "---\n",
        "### Exercise 7 - get the position of a named element in a list\n",
        "\n",
        "Write a function **remove_category(category)** which will:\n",
        "*  create a new list **categories** with the following elements: well being, local events, community events, families and parents, jobs and volunteering\n",
        "*  create a new variable called position and assign it the position of the element \"community events\" in the list  \n",
        "_Hint:  you can use `.index(\"community events\")`_\n",
        "*  print the `position`\n",
        "\n",
        "\n",
        "## Test:\n",
        "Following the instructions above the expected output is:  \n",
        "```\n",
        "2\n",
        "```"
      ],
      "metadata": {
        "id": "rxH09eBofm_j"
      }
    },
    {
      "cell_type": "code",
      "source": [
        "def remove_category():\n",
        "  categories=[\"well being\",\"local events\",\"community events\",\"families and parents\",\"jobs\",\"volunteering\"]\n",
        "  position=categories.index(\"community events\")\n",
        "  print(position)\n",
        "\n",
        "remove_category() "
      ],
      "metadata": {
        "colab": {
          "base_uri": "https://localhost:8080/"
        },
        "id": "mxzHlDs4dwaY",
        "outputId": "4bbc2bcc-30ba-4c3e-c2e3-9fc3da465a75"
      },
      "execution_count": 11,
      "outputs": [
        {
          "output_type": "stream",
          "name": "stdout",
          "text": [
            "2\n"
          ]
        }
      ]
    },
    {
      "cell_type": "markdown",
      "source": [
        "---\n",
        "### Exercise 8 - remove an item from a list\n",
        "\n",
        "Write a function **remove_category(category)** which will:\n",
        "*  create a new list **categories** with the following contents: well being, local events, community events, families and parents, jobs and volunteering\n",
        "*  remove the community events element from the list\n",
        "*  print the list using a loop\n",
        "\n",
        "\n",
        "## Test:\n",
        "Following the instructions above the expected output is:  \n",
        "```\n",
        "well being\n",
        "local events\n",
        "families and parents\n",
        "jobs and volunteering\n",
        "```"
      ],
      "metadata": {
        "id": "VmjaMKEXPKba"
      }
    },
    {
      "cell_type": "code",
      "source": [
        "def remove_category():\n",
        "  categories=[\"well being\",\"local events\",\"community events\",\"families and parents\",\"jobs and volunteering\"]\n",
        "  categories.remove(\"community events\")\n",
        "  for i in categories:\n",
        "    print(i)\n",
        "\n",
        "remove_category() "
      ],
      "metadata": {
        "id": "e5cgRvmyfGiE",
        "colab": {
          "base_uri": "https://localhost:8080/"
        },
        "outputId": "85512f45-be42-46ca-a917-841b8ddb4f6f"
      },
      "execution_count": 13,
      "outputs": [
        {
          "output_type": "stream",
          "name": "stdout",
          "text": [
            "well being\n",
            "local events\n",
            "families and parents\n",
            "jobs and volunteering\n"
          ]
        }
      ]
    }
  ]
}