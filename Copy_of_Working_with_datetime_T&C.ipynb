{
  "nbformat": 4,
  "nbformat_minor": 0,
  "metadata": {
    "colab": {
      "provenance": [],
      "include_colab_link": true
    },
    "kernelspec": {
      "name": "python3",
      "display_name": "Python 3"
    },
    "language_info": {
      "name": "python"
    }
  },
  "cells": [
    {
      "cell_type": "markdown",
      "metadata": {
        "id": "view-in-github",
        "colab_type": "text"
      },
      "source": [
        "<a href=\"https://colab.research.google.com/github/AikateriniK/Coolcode/blob/main/Copy_of_Working_with_datetime_T%26C.ipynb\" target=\"_parent\"><img src=\"https://colab.research.google.com/assets/colab-badge.svg\" alt=\"Open In Colab\"/></a>"
      ]
    },
    {
      "cell_type": "markdown",
      "metadata": {
        "id": "7iQyKP-SQiw1"
      },
      "source": [
        "# User-defined functions using datetime library\n",
        "\n",
        "---\n"
      ]
    },
    {
      "cell_type": "markdown",
      "metadata": {
        "id": "Vi93h5I4QnKs"
      },
      "source": [
        "When working with dates and times, fairly common in data sets, we need to be able to extract certain bits of information.  \n",
        "\n",
        "In Python, as with other languages, dates and times are stored in a data structure that combines the two together and stores the information as a number of seconds since a start point (often 1st January 1900).  This is obviously a large number but every bit of information about a date can be extracted from it and used to give a wide range of information.  \n",
        "\n",
        "Have a go at the exercises below to use a selection of datetime functions and return a new bit of data from each, to be printed by the caller.\n",
        "\n",
        "Before you can use datetime functions you will need to import them. Import the datetime functions like this:\n",
        "\n",
        "`from datetime import datetime`  \n",
        "\n",
        "\n",
        "For more information about datetime functions visit [w3Schools-Python datetime](https://www.w3schools.com/python/python_datetime.asp) and [Python docs](https://docs.python.org/3/library/datetime.html)"
      ]
    },
    {
      "cell_type": "markdown",
      "metadata": {
        "id": "MIDLi7CNR034"
      },
      "source": [
        "---\n",
        "### Exercise 1 - print current date and time\n",
        "\n",
        "Write a function that will return the date and time now.  The caller will print it.  \n",
        "\n",
        "*Hint:  the format has been added for you, the other exercises will follow a similar format.   Always remember to import datetime from datetime as shown below*"
      ]
    },
    {
      "cell_type": "code",
      "metadata": {
        "id": "gS6GJdXbQfHp",
        "colab": {
          "base_uri": "https://localhost:8080/"
        },
        "outputId": "99cdf5ff-ea6a-40ab-f9f5-b4cd73e437a8"
      },
      "source": [
        "from datetime import datetime, timedelta\n",
        "# add your function, called get_datetime_now() below here\n",
        "def get_datetime_now():\n",
        "  print(datetime.now() + timedelta(hours=1))\n",
        "\n",
        "get_datetime_now()"
      ],
      "execution_count": 20,
      "outputs": [
        {
          "output_type": "stream",
          "name": "stdout",
          "text": [
            "2023-06-06 14:23:14.550098\n"
          ]
        }
      ]
    },
    {
      "cell_type": "markdown",
      "metadata": {
        "id": "Yy24sL0bUtpF"
      },
      "source": [
        "---\n",
        "Exercise 2 - print the current year\n",
        "\n",
        "Write a function that will return the current year.  The caller will print the year."
      ]
    },
    {
      "cell_type": "code",
      "metadata": {
        "id": "YqlQqPIqUtyr",
        "colab": {
          "base_uri": "https://localhost:8080/"
        },
        "outputId": "e05737fc-19ae-4a1b-a3c2-3700573ab17f"
      },
      "source": [
        "import datetime\n",
        "def current_year():\n",
        "  x = datetime.datetime.now()\n",
        "  print(x.year)\n",
        "\n",
        "current_year()\n"
      ],
      "execution_count": 32,
      "outputs": [
        {
          "output_type": "stream",
          "name": "stdout",
          "text": [
            "2023\n"
          ]
        }
      ]
    },
    {
      "cell_type": "markdown",
      "metadata": {
        "id": "FzSVCaJKV1O1"
      },
      "source": [
        "---\n",
        "### Exercise 3 - print the current day of the week\n",
        "\n",
        "Write a function that will return the current day of the week.  The caller will print it."
      ]
    },
    {
      "cell_type": "code",
      "metadata": {
        "id": "OP4ZIXBWV1Yj",
        "colab": {
          "base_uri": "https://localhost:8080/"
        },
        "outputId": "8ae0268c-da3c-4053-c255-48a65fbbbd4f"
      },
      "source": [
        "import datetime\n",
        "def current_weekday():\n",
        "  x = datetime.datetime.now()\n",
        "  print(x.strftime(\"%A\"))\n",
        "\n",
        "current_weekday()"
      ],
      "execution_count": 36,
      "outputs": [
        {
          "output_type": "stream",
          "name": "stdout",
          "text": [
            "Tuesday\n"
          ]
        }
      ]
    },
    {
      "cell_type": "markdown",
      "metadata": {
        "id": "a8euCtdmWIDE"
      },
      "source": [
        "---\n",
        "### Exercise 4 - create a new date\n",
        "\n",
        "When new notices are added to the app, an end date will be added so that the notice is not displayed after its expiry date.  Write a function that will take 3 parameters, year, month, day (3 numbers that make a valid date) and will create, and return a new date.  The caller will print the date."
      ]
    },
    {
      "cell_type": "code",
      "metadata": {
        "id": "FbOFnTwnWILN",
        "colab": {
          "base_uri": "https://localhost:8080/"
        },
        "outputId": "c32c6497-e24f-436f-c60f-4dbccbd19285"
      },
      "source": [
        "import datetime\n",
        "def new_date( year, month, day):\n",
        "  new_date=datetime.date(year, month, day)\n",
        "  print((new_date))\n",
        "\n",
        "\n",
        "new_date(2023,8,20)"
      ],
      "execution_count": 161,
      "outputs": [
        {
          "output_type": "stream",
          "name": "stdout",
          "text": [
            "2023-08-20\n"
          ]
        }
      ]
    },
    {
      "cell_type": "markdown",
      "metadata": {
        "id": "f5SKVuE0WfcE"
      },
      "source": [
        "---\n",
        "### Exercise 5 - create a valid date\n",
        "\n",
        "Write a function to test that the given date is valid for new notices.  The function will take 3 parameters, year, month, day (3 numbers) and will:  \n",
        "*   check that the month is between 1 and 12  \n",
        "*   check that the day is valid for the month (e.g. if the month is 2, then the day must be between 1 and 28 (don't worry about leap years for the moment)  \n",
        "*   if the date is not valid, print an error message and return None (which the caller will print)  \n",
        "*   if the date is valid, store it in a new variable, return the variable and the caller will print it."
      ]
    },
    {
      "cell_type": "code",
      "metadata": {
        "id": "gclt-f9-XfdG",
        "colab": {
          "base_uri": "https://localhost:8080/"
        },
        "outputId": "7b564872-9385-456a-f18c-29249884b173"
      },
      "source": [
        "import datetime\n",
        "def valid_date( year, month, day):\n",
        "  if month<1 or month>12:\n",
        "     print(\"The month is not valid\")\n",
        "  elif day <1 or day>31:\n",
        "    print(\"The date is not valid\")\n",
        "  elif month==2 and day>28:\n",
        "    print(\"The date is not valid\")\n",
        "  else:\n",
        "    print(year, month, day)\n",
        "\n",
        "\n",
        "valid_date(2023,2,3)"
      ],
      "execution_count": 162,
      "outputs": [
        {
          "output_type": "stream",
          "name": "stdout",
          "text": [
            "2023 2 3\n"
          ]
        }
      ]
    },
    {
      "cell_type": "markdown",
      "metadata": {
        "id": "9BuRDi08YAO0"
      },
      "source": [
        "---\n",
        "### Exercise 6 - display parts of date/time\n",
        "\n",
        "Write a function that will take a date and print from it the following:  \n",
        "*  given date and time  \n",
        "*  year (in full) \n",
        "*  month (as a number) \n",
        "*  month name \n",
        "*  week number of the year  \n",
        "*  weekday of the week (as a number)  \n",
        "*  day of year  \n",
        "*  day of the month  \n",
        "*  day of week (as a name)  \n",
        "\n",
        "*Hint:  see w3Schools for [strftime reference](https://www.w3schools.com/python/python_datetime.asp)*\n",
        "\n"
      ]
    },
    {
      "cell_type": "code",
      "metadata": {
        "id": "zl-37Ez9ahym",
        "colab": {
          "base_uri": "https://localhost:8080/"
        },
        "outputId": "b5aecee0-74b4-4d26-8b5a-538fabf58530"
      },
      "source": [
        "from datetime import datetime, timedelta\n",
        "def get_datetime_now():\n",
        "  x =datetime.now()\n",
        "  print(\"given date and time \",(x) + timedelta(hours=1))\n",
        "  print(\"year (in full) \",(x.year))\n",
        "  print(\"month (as a number) \",(x.strftime(\"%m\")))\n",
        "  print(\"month name \",(x.strftime(\"%B\"))) \n",
        "  print(\"week number of the year \",(x.strftime(\"%U\")))\n",
        "  print(\"weekday of the week (as a number) \",(x.strftime(\"%w\")))\n",
        "  print(\"day of year \",(x.strftime(\"%j\")))\n",
        "  print(\"day of the month \",(x.day))\n",
        "  print(\"day of week (as a name) \",(x.strftime(\"%A\")))\n",
        "\n",
        "\n",
        "get_datetime_now()"
      ],
      "execution_count": 130,
      "outputs": [
        {
          "output_type": "stream",
          "name": "stdout",
          "text": [
            "given date and time  2023-06-06 15:50:07.017483\n",
            "year (in full)  2023\n",
            "month (as a number)  06\n",
            "month name  June\n",
            "week number of the year  23\n",
            "weekday of the week (as a number)  2\n",
            "day of year  157\n",
            "day of the month  6\n",
            "day of week (as a name)  Tuesday\n"
          ]
        }
      ]
    },
    {
      "cell_type": "markdown",
      "metadata": {
        "id": "_rpTIoSDaiBj"
      },
      "source": [
        "---\n",
        "### Exercise 7 - How many days live?\n",
        "\n",
        "Write a function called **calc_days_notice_valid** that will calculate how many days a notice is valid for (and therefore should be live / displayed).  It will:\n",
        "\n",
        "* automatically generate a **notice_loaded** date (today's date)\n",
        "* pass a day, month, year into the function when it is run \n",
        "* generate a date **end_date** using the datetime function and the day,month,year parameters\n",
        "* calculate and return the number of days that the notice is **live** for.\n",
        "\n",
        "**Sample Input**\n",
        "calc_days_notice_valid(29/06/2023)\n",
        "\n",
        "**Expected Output**\n",
        "If entry date was 24/5/2023:\n",
        "4 days\n"
      ]
    },
    {
      "cell_type": "code",
      "metadata": {
        "id": "1d-oXqLLb0vX",
        "colab": {
          "base_uri": "https://localhost:8080/"
        },
        "outputId": "e0961fef-2638-49e7-c920-ab6524ebb55e"
      },
      "source": [
        "import datetime\n",
        "def calc_days_notice_valid(year,month,day):\n",
        "  notice_loaded=datetime.date.today()\n",
        "  print(notice_loaded)\n",
        "  end_date=datetime.date(year,month,day)\n",
        "  print(end_date)\n",
        "  live=(end_date)-(notice_loaded)\n",
        "  print(live.days)\n",
        "\n",
        "calc_days_notice_valid(2023,6,29)"
      ],
      "execution_count": 160,
      "outputs": [
        {
          "output_type": "stream",
          "name": "stdout",
          "text": [
            "2023-06-06\n",
            "2023-06-29\n",
            "23\n"
          ]
        }
      ]
    }
  ]
}