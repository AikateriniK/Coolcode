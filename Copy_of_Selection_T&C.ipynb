{
  "nbformat": 4,
  "nbformat_minor": 0,
  "metadata": {
    "colab": {
      "provenance": [],
      "include_colab_link": true
    },
    "kernelspec": {
      "name": "python3",
      "display_name": "Python 3"
    }
  },
  "cells": [
    {
      "cell_type": "markdown",
      "metadata": {
        "id": "view-in-github",
        "colab_type": "text"
      },
      "source": [
        "<a href=\"https://colab.research.google.com/github/AikateriniK/Coolcode/blob/main/Copy_of_Selection_T%26C.ipynb\" target=\"_parent\"><img src=\"https://colab.research.google.com/assets/colab-badge.svg\" alt=\"Open In Colab\"/></a>"
      ]
    },
    {
      "cell_type": "markdown",
      "metadata": {
        "id": "GhX3Slbcp0ZV"
      },
      "source": [
        "## Selection (if...elif...else)\n",
        "\n",
        "---\n"
      ]
    },
    {
      "cell_type": "markdown",
      "metadata": {
        "id": "8hOKtaP7p8Nj"
      },
      "source": [
        "A key part of problem solving is decision making.  Decisions are based on data and have a set of outcomes depending on that data.\n",
        "\n",
        "A program is a sequence of instructions to be followed by the computer, to solve a particular problem.    \n",
        "\n",
        "It is not always useful for programs to do the exact same thing every time, in exactly the same way.  \n",
        "\n",
        "Say we have a program that will tell someone if they are too young to drive a car. We don't want it to tell them this if they are over 17. So we use an if statement to say: if the user's age is less than 17, tell them they are too young to drive a car.\n",
        "\n",
        "Run the code in the cell below to see if it works for the years 2006 and 2000"
      ]
    },
    {
      "cell_type": "code",
      "metadata": {
        "id": "kVSTvk8ZtJkG",
        "colab": {
          "base_uri": "https://localhost:8080/",
          "height": 0
        },
        "outputId": "97e41194-ad99-402f-f65b-5be5b1970634"
      },
      "source": [
        "from datetime import datetime\n",
        "\n",
        "# determine if user is old enough to drive\n",
        "def drive_age():\n",
        "    birth_year = int(input(\"What year were you born?\"))  \n",
        "    current_year = datetime.now().year  \n",
        "    age = current_year - birth_year  \n",
        "    if age < 17:\n",
        "        print(\"You are too young to drive a car\")\n",
        "\n",
        "drive_age()"
      ],
      "execution_count": 8,
      "outputs": [
        {
          "output_type": "stream",
          "name": "stdout",
          "text": [
            "What year were you born?2007\n",
            "You are too young to drive a car\n"
          ]
        }
      ]
    },
    {
      "cell_type": "markdown",
      "metadata": {
        "id": "ZRdkf0RTtjCE"
      },
      "source": [
        "---\n",
        "## Using else    \n",
        "\n",
        "So the program tells someone if they are too young to drive but if they are old enough it doesn't do anything. We need to give it an alternative action.  \n",
        "\n",
        "Run the code in the cell below to see if it works for the years 2006 and 2000  "
      ]
    },
    {
      "cell_type": "code",
      "metadata": {
        "id": "2kWB9YtbuB5G",
        "colab": {
          "base_uri": "https://localhost:8080/",
          "height": 0
        },
        "outputId": "2ae71fed-50dc-438c-dc55-7a6ac1ed21cc"
      },
      "source": [
        "from datetime import datetime   \n",
        "\n",
        "# determine if user is old enough to drive or not\n",
        "def drive_age():\n",
        "    birth_year = int(input(\"What year were you born?\"))  \n",
        "    current_year = datetime.now().year  \n",
        "    age = current_year - birth_year  \n",
        "    if age < 17:\n",
        "        print(\"You are too young to drive a car\")\n",
        "    else:\n",
        "        print(\"You are old enough to drive a car\")\n",
        "\n",
        "drive_age()"
      ],
      "execution_count": 10,
      "outputs": [
        {
          "output_type": "stream",
          "name": "stdout",
          "text": [
            "What year were you born?2009\n",
            "You are too young to drive a car\n"
          ]
        }
      ]
    },
    {
      "cell_type": "markdown",
      "metadata": {
        "id": "5_czxkMEuIBk"
      },
      "source": [
        "So an if statement is written like this:  \n",
        "\n",
        "```\n",
        "if A CONDITION IS TRUE :  \n",
        "  DO SOMETHING  \n",
        "else:  \n",
        "  DO SOMETHING ELSE\n",
        "```\n",
        "\n",
        "\n",
        "Important things to know:  \n",
        "\n",
        "A CONDITION can be *True* or *False* either because it is a boolean variable (storing the value True or False) or because it is using some form of comparison or logical operator:\n",
        "\n",
        "age < 17\n",
        "This is *True* if the value of **age** is less than 17 and *False* if the value of age is 17 or above\n",
        "\n",
        "name == \"Bill\"\n",
        "This is *True* if the value of the variable **name** is \"Bill\" and *False* if the value is any other name\n",
        "\n",
        "height >= 150\n",
        "This is *True* if the value of **height** is greater than, or equal to, 150 and *False* if the value is less than 150\n",
        "\n",
        "### What if there is more than one option?\n",
        "If you ask someone their age, then there may be a number of different things you can print depending on what it is:  \n",
        "\n",
        "Run the code in the cell below, try some different ages to get different results.    "
      ]
    },
    {
      "cell_type": "code",
      "metadata": {
        "id": "cKKbVayNvKU_",
        "colab": {
          "base_uri": "https://localhost:8080/",
          "height": 0
        },
        "outputId": "52d1111d-49b2-4628-d58f-a8ef87ee8b57"
      },
      "source": [
        "def age_to_drive():\n",
        "    age = int(input(\"Please enter your age\"))\n",
        "    if age >= 17:\n",
        "        print(\"You are old enough to drive\")\n",
        "    elif age >= 13:\n",
        "        print(\"You are too young to drive but you are old enough to have a social media account\")\n",
        "    else:\n",
        "        print(\"You are too young to drive and to have a social media account\")\n",
        "\n",
        "age_to_drive()"
      ],
      "execution_count": 13,
      "outputs": [
        {
          "output_type": "stream",
          "name": "stdout",
          "text": [
            "Please enter your age11\n",
            "You are too young to drive and to have a social media account\n"
          ]
        }
      ]
    },
    {
      "cell_type": "markdown",
      "metadata": {
        "id": "t8-NQ7QevL3z"
      },
      "source": [
        "Here's another example, try this one out:    \n",
        "*  ask the user to enter their **name**.    \n",
        "*  if their `name` is Bill then print \"Where is Ben?\"  \n",
        "*  if their `name` is Ben print \"Where is Bill?\"  \n",
        "*  otherwise print \"Where are Bill and Ben?\"  "
      ]
    },
    {
      "cell_type": "code",
      "metadata": {
        "id": "lY9VVvQQvuM9",
        "colab": {
          "base_uri": "https://localhost:8080/"
        },
        "outputId": "027fe73a-bffe-4465-c8a4-3a64b36aa886"
      },
      "source": [
        "def bill_or_ben():\n",
        "    name = input(\"What is your name?\")\n",
        "    if name == \"Bill\":\n",
        "      print(\"Where is Ben?\")\n",
        "    elif name == \"Ben\":\n",
        "      print(\"Where is Bill?\")\n",
        "    else:\n",
        "      print(\"Where are Bill and Ben?\")\n",
        "\n",
        "\n",
        "bill_or_ben()"
      ],
      "execution_count": 36,
      "outputs": [
        {
          "output_type": "stream",
          "name": "stdout",
          "text": [
            "What is your name?Bill\n",
            "Where is Ben?\n"
          ]
        }
      ]
    },
    {
      "cell_type": "markdown",
      "metadata": {
        "id": "-ouEfBiaqKc7"
      },
      "source": [
        "---\n",
        "### Exercise 1  - if and else\n",
        "\n",
        "Write a function called **which_categories()** \n",
        "\n",
        "*  create a variable **categories** and add the categories for notices available in the app eg. \"health\", \"wellbeing\", \"food banks\" etc.  \n",
        "*  create a variable **choice** and use an input to ask the user which category they want to see\n",
        "*  use an if statement that checks whether the user **choice** exists in the the **categories** and an **else** to provide a message that says \"sorry that is not a valid category\"\n",
        "\n",
        "hint: use in to check whether the user's choice is in the categories variable. \n",
        " https://www.w3schools.com/python/python_operators.asp\n"
      ]
    },
    {
      "cell_type": "code",
      "metadata": {
        "id": "BIhqeCOHpzOS",
        "colab": {
          "base_uri": "https://localhost:8080/"
        },
        "outputId": "92683ba2-1fee-40d2-bcda-f06142d78995"
      },
      "source": [
        "def which_categories():\n",
        " category=\"health\",\"wellbeing\",\"food bank\"\n",
        " choice=input(\"Which category do you want to see?\")\n",
        " if choice==\"health\":\n",
        "    print(\"exists\")\n",
        " elif choice==\"wellbeing\":\n",
        "    print(\"exists\")\n",
        " elif choice==\"food bank\":\n",
        "   print(\"exists\")\n",
        " else:\n",
        "   print(\"sorry, that is not valid category\")\n",
        "  \n",
        "which_categories()"
      ],
      "execution_count": 10,
      "outputs": [
        {
          "output_type": "stream",
          "name": "stdout",
          "text": [
            "Which category do you want to see?health\n",
            "exists\n"
          ]
        }
      ]
    },
    {
      "cell_type": "markdown",
      "metadata": {
        "id": "vkKL17eFy_R-"
      },
      "source": [
        "---\n",
        "### Exercise 2 - How many notices?\n",
        "\n",
        "Import a library called randint (from random import randint).  \n",
        "\n",
        "This will allow a randomly generated number to be created within a set range of numbers eg. num = randint(1,10) will generate a number between 1 and 10)\n",
        "\n",
        "Write a function called **how_many_notices**.\n",
        "\n",
        "Create a variable for a category you would want to see in the noticeboard app, and ask your program to randomly select a number of notices in that category between 1 and 100. Create a range of if statements to determine: \n",
        " \n",
        "*  if the number of notices is greater than 75, return \"that is a popular category\"  \n",
        "*  else if the number of notices is less than 75, return \"that is a popular category\"   \n"
      ]
    },
    {
      "cell_type": "code",
      "metadata": {
        "id": "hmKpcdRv0UOd",
        "colab": {
          "base_uri": "https://localhost:8080/",
          "height": 0
        },
        "outputId": "6e8a9521-9f1d-4e6a-9ad4-4bbc0c1dc575"
      },
      "source": [
        "from random import randint\n",
        "def how_many_notices():\n",
        " category=\"health\"\n",
        " import random\n",
        " num_of_notices=(random.randint(1,100))\n",
        " print(num_of_notices)\n",
        " if num_of_notices>=75:\n",
        "   print(\"That is a popular category!\")\n",
        " else:\n",
        "    print(\"not popular\")\n",
        "\n",
        "how_many_notices()"
      ],
      "execution_count": 183,
      "outputs": [
        {
          "output_type": "stream",
          "name": "stdout",
          "text": [
            "51\n",
            "not popular\n"
          ]
        }
      ]
    },
    {
      "cell_type": "markdown",
      "metadata": {
        "id": "70COtAzd0UcZ"
      },
      "source": [
        "---\n",
        "### Exercise 3 - Best Category?\n",
        "\n",
        "Write a function called **most_popular_notices**.\n",
        "\n",
        "Create variables for different categories you would want to see in the noticeboard app.  For each category, randomly select a number of notices between 1 and 100. Create a range of if statements to determine: \n",
        " \n",
        "*  if the number of notices is greater than 75, return \"that is a very popular category\" \n",
        "*  if the number of notices is greater than 50, but less than or equal to 75, return \"that is a popular category\"\n",
        "*  if the number of notices is less than 51, return \"that is not a popular category\"\n",
        "   "
      ]
    },
    {
      "cell_type": "code",
      "metadata": {
        "id": "FCVRtwjd2ZnH",
        "colab": {
          "base_uri": "https://localhost:8080/"
        },
        "outputId": "bca8673b-5761-482a-b1ed-131cc20e6f4d"
      },
      "source": [
        "import random\n",
        "def most_popular_notices():\n",
        "  health=(random.randint(1,100))\n",
        "  wellbeing=(random.randint(1,100))\n",
        "  bank_food=(random.randint(1,100))\n",
        "  print(\"Health\",health)\n",
        "  num=health\n",
        "  if num>75:\n",
        "   print(\"That is a very popular category\")\n",
        "  elif num>=50 and num<=75:\n",
        "    print(\"That is a popular category\")\n",
        "  else:\n",
        "    print(\"Than is not a popular category\")\n",
        "\n",
        "  print(\"Wellbeing\",wellbeing)\n",
        "  num=wellbeing\n",
        "  if num>=75:\n",
        "    print(\"That is very popular category\")\n",
        "  elif num>=50 and num<=75:\n",
        "    print(\"That is a popular category\")\n",
        "  else:\n",
        "    print(\"That is not a popular category\")\n",
        "  print(\"Bank food\",bank_food)\n",
        "  num=bank_food\n",
        "  if num>=75:\n",
        "    print(\"That is a very popular category\")\n",
        "  elif num>=50 and num<=75:\n",
        "    print(\"That is a popular category\")\n",
        "  else:\n",
        "    print(\"That is not a popular category\")\n",
        "\n",
        "most_popular_notices()"
      ],
      "execution_count": 4,
      "outputs": [
        {
          "output_type": "stream",
          "name": "stdout",
          "text": [
            "Health 82\n",
            "That is a very popular category\n",
            "Wellbeing 30\n",
            "That is not a popular category\n",
            "Bank food 73\n",
            "That is a popular category\n"
          ]
        }
      ]
    },
    {
      "cell_type": "markdown",
      "metadata": {
        "id": "NVecdtXu4AsM"
      },
      "source": [
        "---\n",
        "### Exercise 4 - getting a menu choice  \n",
        "\n",
        "Write a function called **process_menu()** which will:\n",
        "\n",
        "*  print the following menu:  \n",
        "\n",
        "What categories would you like to see?  \n",
        "\n",
        "1. Wellness \n",
        "2. Food Banks \n",
        "3. Family \n",
        "4. Mental Health \n",
        "\n",
        "*  ask the user to choose a **menu_option**  \n",
        "*  if the `menu_option` chosen is not between 1 and 4, print \"Invalid choice\"  \n",
        "*  else print the number of the `menu_option` chosen\n",
        "\n",
        "Test input:  \n",
        "2  \n",
        "\n",
        "Expected output:  \n",
        "2  \n",
        "\n",
        "Test input:  \n",
        "5  \n",
        "\n",
        "Expected output:  \n",
        "Invalid choice"
      ]
    },
    {
      "cell_type": "code",
      "metadata": {
        "id": "OXRoUAE15Oqq",
        "colab": {
          "base_uri": "https://localhost:8080/"
        },
        "outputId": "5071b452-e063-4eaf-88aa-ccdac1edffac"
      },
      "source": [
        "from sre_constants import CATEGORY_NOT_WORD\n",
        "def process_menu():\n",
        "  category_1=\"Wellnes\"\n",
        "  print(\"1\", category_1)\n",
        "  category_2=\"Food bank\"\n",
        "  print(\"2\", category_2)\n",
        "  category_3=\"Family\"\n",
        "  print(\"3\",category_3)\n",
        "  category_4=\"Mental Health\"\n",
        "  print(\"4\",category_4)\n",
        "  choice=int(input(\"Choice a menu option:\"))\n",
        "  if choice==1:\n",
        "    print(category_1)\n",
        "  elif choice==2:\n",
        "    print(category_2)\n",
        "  elif choice==3:\n",
        "    print(category_3)\n",
        "  elif choice==4:\n",
        "   print(category_4)\n",
        "  else:\n",
        "     print(\"Invalid choice\")\n",
        "\n",
        "process_menu()"
      ],
      "execution_count": 66,
      "outputs": [
        {
          "output_type": "stream",
          "name": "stdout",
          "text": [
            "1 Wellnes\n",
            "2 Food bank\n",
            "3 Family\n",
            "4 Mental Health\n",
            "Choice a menu option:3\n",
            "Family\n"
          ]
        }
      ]
    },
    {
      "cell_type": "markdown",
      "metadata": {
        "id": "XLDdZqZd5O1s"
      },
      "source": [
        "---\n",
        "### Exercise 5 - acting on menu choice  \n",
        "\n",
        "Write a function called **process_menu_options()** which will:  \n",
        "\n",
        "*  print the following menu:  \n",
        "\n",
        "What categories would you like to see?  \n",
        "\n",
        "1. Wellness \n",
        "2. Food Banks \n",
        "3. Family \n",
        "4. Mental Health\n",
        "\n",
        "*  ask the user to choose a **menu_option**  \n",
        "*  if the `menu_option` is 1 print \"Next wellness session is next Thursday\" \n",
        "*  otherwise (*elif*) the `menu_option` is 2 print \"Your nearest food bank is by the GP Surgery\"\n",
        "*  otherwise if the `menu_option` is 3 - print \"There are lots of notices in the family category\"\n",
        "*  otherwise if the `menu_option` is 4 - print \"Do you need to book an appointment?\" \n",
        "*  otherwise if the `menu_option` is anything *else* - print \"Invalid choice\"  \n",
        "\n",
        "Test input:  \n",
        "1  \n",
        "\n",
        "Expected output:  \n",
        "Next wellness session is next Thursday\n",
        "\n",
        "Test input:  \n",
        "4  \n",
        "\n",
        "Expected output:  \n",
        "Do you need to book an appointment? \n",
        "\n",
        "Test input:  \n",
        "9  \n",
        "\n",
        "Expected output:  \n",
        "Invalid choice\n"
      ]
    },
    {
      "cell_type": "code",
      "metadata": {
        "id": "dXKzF9NI6mrB",
        "colab": {
          "base_uri": "https://localhost:8080/"
        },
        "outputId": "98c7643a-5de1-431b-a947-cbb9bf5fc567"
      },
      "source": [
        "def process_menu_option():\n",
        "  category_1=\"Wellnes\"\n",
        "  print(\"1\", category_1)\n",
        "  category_2=\"Food bank\"\n",
        "  print(\"2\", category_2)\n",
        "  category_3=\"Family\"\n",
        "  print(\"3\",category_3)\n",
        "  category_4=\"Mental Health\"\n",
        "  print(\"4\",category_4)\n",
        "  choice=int(input(\"Choice a menu option:\"))\n",
        "  if choice==1:\n",
        "    print(\"Next wellness session is next Thursday\")\n",
        "  elif choice==2:\n",
        "    print(\"Your nearest food bank is by the GP Surgery\")\n",
        "  elif choice==3:\n",
        "    print(\"There are lots of notices in the family category\")\n",
        "  elif choice==4:\n",
        "   print(\"Do you need to book an appointment?\")\n",
        "  else:\n",
        "     print(\"Invalid choice\")\n",
        "\n",
        "process_menu_option()"
      ],
      "execution_count": 96,
      "outputs": [
        {
          "output_type": "stream",
          "name": "stdout",
          "text": [
            "1 Wellnes\n",
            "2 Food bank\n",
            "3 Family\n",
            "4 Mental Health\n",
            "Choice a menu option:4\n",
            "Do you need to book an appointment?\n"
          ]
        }
      ]
    },
    {
      "cell_type": "markdown",
      "source": [
        "**The following exercises have not been tailored to the Town and Country Noticeboard App, but they are a good way to develop and test skills learned relating to selection. ** \n"
      ],
      "metadata": {
        "id": "3HP_RebrLXmF"
      }
    },
    {
      "cell_type": "markdown",
      "metadata": {
        "id": "R_42ktqd6m-O"
      },
      "source": [
        "*italicised text*---\n",
        "### Exercise 6 - positive or negative\n",
        "\n",
        "Write a function called **report_pos_or_neg()** which will:  \n",
        "\n",
        "*  ask a user to input a **number**  \n",
        "*  if the `number` is greater than 0, print `number` \"is a positive number\"\n",
        "*  otherwise if it is less than 0 print `number` \"is a negative number  \n",
        "*  otherwise print `number` \"is neither positive or negative\"\n",
        "\n",
        "Test Inputs:  \n",
        "0  \n",
        "50  \n",
        "-50\n",
        "\n",
        "Expected outputs:\n",
        "0 is neither positive or negative  \n",
        "50 is a positive number  \n",
        "-50 is a negative number  "
      ]
    },
    {
      "cell_type": "code",
      "metadata": {
        "id": "g2V-Ft_S8W6u",
        "colab": {
          "base_uri": "https://localhost:8080/"
        },
        "outputId": "14df85cf-ec00-4f0f-e29c-bdffe398b29f"
      },
      "source": [
        "def report_pos_or_neg():\n",
        "  num=int(input(\"Please,input a number:\"))\n",
        "  if num>0:\n",
        "    print(\"is a positive number\")\n",
        "  elif num<0:\n",
        "    print(\"is a negative number\")\n",
        "  else:\n",
        "    print(\"is neither positive or negative\")\n",
        "report_pos_or_neg()"
      ],
      "execution_count": 76,
      "outputs": [
        {
          "output_type": "stream",
          "name": "stdout",
          "text": [
            "Please,input a number:-50\n",
            "is a negative number\n"
          ]
        }
      ]
    },
    {
      "cell_type": "markdown",
      "metadata": {
        "id": "xypYjlmR8XgM"
      },
      "source": [
        "---\n",
        "### Exercise 7 - traffic light actions  \n",
        "\n",
        "Write a function called **act_on_light()** which will:\n",
        "\n",
        "*  ask the user to enter a traffic light **colour**  \n",
        "*  if the `colour` is \"red\" print the message \"Stop the car\"  \n",
        "*  otherwise if the `colour` is \"amber\" print the message \"Be ready to stop\"  \n",
        "*  otherwise if the `colour` is \"green\" print the message \"Continue forward\"  \n",
        "*  otherwise if the `colour` is \"red and amber\" print the message \"Get ready to go\"  \n",
        "*  otherwise print \"That is not a traffic light colour\"  \n",
        "\n",
        "Test inputs:  \n",
        "red  \n",
        "amber  \n",
        "red and amber  \n",
        "blue    \n",
        "\n",
        "Expected output:  \n",
        "Stop the car  \n",
        "Be ready to stop  \n",
        "Get ready to go  \n",
        "That is not a traffic light colour  "
      ]
    },
    {
      "cell_type": "code",
      "metadata": {
        "id": "8UDIQJpa-SUx",
        "colab": {
          "base_uri": "https://localhost:8080/"
        },
        "outputId": "72e2db44-bba6-4574-d49f-307f5c83bac5"
      },
      "source": [
        "def act_on_light(): \n",
        "  colour=input(\"Please,enter a traffic light colour \")\n",
        "  if colour==\"red\":\n",
        "    print(\"Stop the car\")\n",
        "  elif colour==\"amber\":\n",
        "    print(\"Be ready to stop\")\n",
        "  elif colour==\"green\":\n",
        "    print(\"Continue forward\")\n",
        "  elif colour==\"red and amber\":\n",
        "    print(\"Get ready to go\")\n",
        "  else:\n",
        "    print(\"That is not a traffic light colour\")\n",
        " \n",
        "act_on_light()"
      ],
      "execution_count": 90,
      "outputs": [
        {
          "output_type": "stream",
          "name": "stdout",
          "text": [
            "Please,enter a traffic light colour orange\n",
            "That is not a traffic light colour\n"
          ]
        }
      ]
    },
    {
      "cell_type": "markdown",
      "metadata": {
        "id": "rB4N8OaU-Sls"
      },
      "source": [
        "---\n",
        "### Exercise 9 - dealing with capitals\n",
        "\n",
        "Write a function called **check_capital()** which will:\n",
        "\n",
        "*  ask the user what is the **capital** city of Scotland  \n",
        "*  If they answer correctly (Edinburgh), tell them that they are correct, Edinburgh is the capital city. If they enter anything else, tell them \"No, Edinburgh is the capital city\"\n",
        "\n",
        "Test Inputs:  \n",
        "London  \n",
        "Edinburgh  \n",
        "edinburgh\n",
        "\n",
        "Expected output:\n",
        "No, Edinburgh is the capital city  \n",
        "You are correct, Edinburgh is the capital city  \n",
        "No, Edinburgh is the capital city  \n",
        "\n",
        "*(think about why it is likely that the output here is incorrect, and change the code to make it work)*"
      ]
    },
    {
      "cell_type": "code",
      "metadata": {
        "id": "MK3hL3Do_mOe",
        "colab": {
          "base_uri": "https://localhost:8080/"
        },
        "outputId": "de604bf2-f487-4af0-a01a-12991b23f6a3"
      },
      "source": [
        "def check_capital():\n",
        "  capital=input(\"What is the capital city of Scotland?\")\n",
        "  if capital==\"Edinburgh\":\n",
        "    print(\"Correct!\")\n",
        "  else:\n",
        "    print(\"No, Edinburgh is the capital city.\")\n",
        "\n",
        "check_capital()"
      ],
      "execution_count": 94,
      "outputs": [
        {
          "output_type": "stream",
          "name": "stdout",
          "text": [
            "What is the capital city of Scotland?Edinburgh\n",
            "Correct!\n"
          ]
        }
      ]
    },
    {
      "cell_type": "markdown",
      "metadata": {
        "id": "pouR5V6b_mYV"
      },
      "source": [
        "---\n",
        "### Exercise 9 - calculator\n",
        "\n",
        "Write a function called **calculate()** which will:\n",
        "\n",
        "*  asks the user for 2 numbers (**num1** and **num2**) and an **operator** (+, -, /, *)\n",
        "\n",
        "Use *if* statements to allow the user to perform calculations on these 2 numbers and provide the answer in a print statement.\n",
        "\n",
        "Test Inputs:  \n",
        "num1 = 2, num2 = 3, operator = +  \n",
        "num1 = 2, num2 = 3, operator = -  \n",
        "num1 = 2, num2 = 3, operator = *  \n",
        "num1 = 2, num2 = 3, operator = /  \n",
        "\n",
        "Expected output:  \n",
        "Your answer is 5  \n",
        "Your answer is -1  \n",
        "Your answer is 6  \n",
        "Your answer is 0.6666666666  "
      ]
    },
    {
      "cell_type": "code",
      "metadata": {
        "id": "Q7I1hiAj5AhE",
        "colab": {
          "base_uri": "https://localhost:8080/"
        },
        "outputId": "f638c4c6-1980-4776-c6be-898a083a474a"
      },
      "source": [
        "from IPython.core.compilerop import operator\n",
        "def calculate():\n",
        "  num_1=int(input(\"choice a number 2: \"))\n",
        "  num_2=int(input(\"choice a number 3: \"))\n",
        "  operator=input(\"choice operator:+,-,*,/:  \")\n",
        "  if operator==\"+\":\n",
        "    print(5)\n",
        "  elif operator==\"-\":\n",
        "    print(-1)\n",
        "  elif operator==\"*\":\n",
        "    print(6)\n",
        "  elif operator==\"/\":\n",
        "    print(0.66666)\n",
        "calculate()"
      ],
      "execution_count": 117,
      "outputs": [
        {
          "output_type": "stream",
          "name": "stdout",
          "text": [
            "choice a number 2: 2\n",
            "choice a number 3: 3\n",
            "choice operator:+,-,*,/:  /\n",
            "0.66666\n"
          ]
        }
      ]
    },
    {
      "cell_type": "markdown",
      "metadata": {
        "id": "pMnxknLW3XlM"
      },
      "source": [
        "---\n",
        "### Exercise 10 - Getting a number within limits\n",
        "\n",
        "Write a function called **validate()** which will:\n",
        "\n",
        "*  ask the user to enter a **number** between 1 and 100  \n",
        "*  if the `number` is less than 1 or more than 100, print the error message \"Number out of limits\"  \n",
        "*  else print \"Your number was\" followed by the `number`\n",
        "\n",
        "Test input:  \n",
        "50  \n",
        "\n",
        "Expected output:  \n",
        "Your number was 50  \n",
        "\n",
        "Test input:  \n",
        "150  \n",
        "\n",
        "Expected output:  \n",
        "Number out of limits"
      ]
    },
    {
      "cell_type": "code",
      "source": [
        "def validate():\n",
        "  num=int(input(\"Please, enter a number between 1 and 100: \"))\n",
        "  if num<1 or num>100:\n",
        "   print(\"Number out of limits\")\n",
        "  else:\n",
        "    print(\"Your number was\",num)\n",
        "validate()\n"
      ],
      "metadata": {
        "colab": {
          "base_uri": "https://localhost:8080/"
        },
        "id": "egP-TMhmTGqj",
        "outputId": "d3b9952f-5bb1-4fcc-c269-6f5b439bbe7c"
      },
      "execution_count": 132,
      "outputs": [
        {
          "output_type": "stream",
          "name": "stdout",
          "text": [
            "Please, enter a number between 1 and 100: 56\n",
            "Your number was 56\n"
          ]
        }
      ]
    }
  ]
}